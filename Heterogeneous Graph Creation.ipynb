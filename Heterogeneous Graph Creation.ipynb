{
 "cells": [
  {
   "cell_type": "code",
   "execution_count": 1,
   "id": "169dadeb",
   "metadata": {},
   "outputs": [],
   "source": [
    "# Here I will be rethinkg how to create the trainData, valData and testData\n",
    "# i will create a new dataset trainData2\n",
    "# after the hyperparameter tuning: I have good final dimension and learning rate\n",
    "# then in the trainData2 i will try to give as much supervision edges and supervision labels as possible\n",
    "# that way model can learn better as it has more data to train on"
   ]
  },
  {
   "cell_type": "code",
   "execution_count": 2,
   "id": "eb45b0ad",
   "metadata": {},
   "outputs": [],
   "source": [
    "# giving as much supervision edges as possible mean: from train_dti\n",
    "# i will use 90% edges for supervision and 10% for message passing"
   ]
  },
  {
   "cell_type": "code",
   "execution_count": 3,
   "id": "038e0732",
   "metadata": {},
   "outputs": [],
   "source": [
    "# first redicover how I created the heterogeneous graphs "
   ]
  },
  {
   "cell_type": "code",
   "execution_count": 1,
   "id": "e74c9e5b",
   "metadata": {},
   "outputs": [],
   "source": [
    "import pandas as pd\n",
    "import glob\n",
    "import os\n",
    "import torch\n",
    "from torch import Tensor\n",
    "import numpy as np\n",
    "from torch_geometric.data import HeteroData\n",
    "import torch_geometric.transforms as T\n",
    "from torch_geometric.nn import GCNConv, SAGEConv, GATConv, to_hetero\n",
    "import torch.nn.functional as F\n",
    "from sklearn.preprocessing import MinMaxScaler\n",
    "from sklearn.metrics import accuracy_score, f1_score, classification_report, confusion_matrix, ConfusionMatrixDisplay\n",
    "import matplotlib.pyplot as plt"
   ]
  },
  {
   "cell_type": "code",
   "execution_count": 2,
   "id": "5ff1b6de",
   "metadata": {},
   "outputs": [],
   "source": [
    "# this function will be used to build drug_feat\n",
    "def to_float(value):\n",
    "    try:\n",
    "        return float(value)\n",
    "    except ValueError:\n",
    "        return float('nan')"
   ]
  },
  {
   "cell_type": "code",
   "execution_count": 3,
   "id": "3683d11c",
   "metadata": {},
   "outputs": [
    {
     "name": "stderr",
     "output_type": "stream",
     "text": [
      "/tmp/ipykernel_1846610/3469342505.py:3: DtypeWarning: Columns (663,786,787,832,835,869,905,906,951,954,988,1146,1411) have mixed types. Specify dtype option on import or set low_memory=False.\n",
      "  dfDrug = pd.read_csv(file_path)\n"
     ]
    }
   ],
   "source": [
    "# creating drug_feat\n",
    "file_path = './NE Dataset/drug_attr.csv'\n",
    "dfDrug = pd.read_csv(file_path)\n",
    "dfDrugFeat = dfDrug.drop(dfDrug.columns[:2], axis=1)\n",
    "dfDrugFeat.replace('#NAME?', np.nan, inplace=True) # replacing the missing values with 0\n",
    "dfDrugFeat.fillna(0, inplace=True)\n",
    "dfDrugFeat = dfDrugFeat.applymap(to_float)\n",
    "dfDrugFeat.replace([np.inf], 0, inplace=True) # replacing the inf value with zero\n",
    "scaler = MinMaxScaler(feature_range=(-1, 1)) # NORMALIZE HERE\n",
    "dfDrugFeat = scaler.fit_transform(dfDrugFeat)\n",
    "drug_feat = torch.from_numpy(dfDrugFeat).to(torch.float)"
   ]
  },
  {
   "cell_type": "code",
   "execution_count": 4,
   "id": "0c32e3de",
   "metadata": {},
   "outputs": [],
   "source": [
    "# creating target_feat\n",
    "file_path = './NE Dataset/protein_attr.csv'\n",
    "dfTarget = pd.read_csv(file_path)\n",
    "dfTargetFeat = dfTarget.drop(dfTarget.columns[:2], axis=1)\n",
    "target_feat = torch.from_numpy(dfTargetFeat.values).to(torch.float)"
   ]
  },
  {
   "cell_type": "code",
   "execution_count": 5,
   "id": "a6dcee44",
   "metadata": {},
   "outputs": [],
   "source": [
    "# unique drug and unique target mapping\n",
    "uniqueDrug = dfDrug['1'].unique()\n",
    "uniqueDrug = pd.DataFrame(data={\n",
    "    'DrugId': uniqueDrug,\n",
    "    'mappedId': pd.RangeIndex(len(uniqueDrug)),\n",
    "})\n",
    "uniqueTraget = dfTarget['#'].unique()\n",
    "uniqueTraget = pd.DataFrame(data={\n",
    "    'TargetId': uniqueTraget,\n",
    "    'mappedId': pd.RangeIndex(len(uniqueTraget)),\n",
    "})"
   ]
  },
  {
   "cell_type": "code",
   "execution_count": 6,
   "id": "4e9cac7b",
   "metadata": {},
   "outputs": [],
   "source": [
    "# creating edge_index_drug_to_drug\n",
    "file_path = './NE Dataset/train_ddi.csv'\n",
    "dfDDI = pd.read_csv(file_path)\n",
    "source_drug_id = pd.merge(dfDDI['Drug'], uniqueDrug,\n",
    "                        left_on='Drug', right_on='DrugId', how='left')\n",
    "source_drug_id = torch.from_numpy(source_drug_id['mappedId'].values)\n",
    "destination_drug_id = pd.merge(dfDDI['Target'], uniqueDrug,\n",
    "                              left_on='Target', right_on='DrugId', how='left')\n",
    "destination_drug_id = torch.from_numpy(destination_drug_id['mappedId'].values)\n",
    "edge_index_drug_to_drug = torch.stack([source_drug_id, destination_drug_id], dim=0)"
   ]
  },
  {
   "cell_type": "code",
   "execution_count": 7,
   "id": "540cff50",
   "metadata": {},
   "outputs": [],
   "source": [
    "# creating edge_index_target_to_target\n",
    "file_path = './NE Dataset/train_ppi.csv'\n",
    "dfPPI = pd.read_csv(file_path)\n",
    "source_target_id = pd.merge(dfPPI['Drug'], uniqueTraget,\n",
    "                            left_on='Drug', right_on='TargetId', how='left')\n",
    "source_target_id = torch.from_numpy(source_target_id['mappedId'].values)\n",
    "destination_target_id = pd.merge(dfPPI['Target'], uniqueTraget,\n",
    "                                left_on='Target', right_on='TargetId', how='left')\n",
    "destination_target_id = torch.from_numpy(destination_target_id['mappedId'].values)\n",
    "edge_index_target_to_target = torch.stack([source_target_id, destination_target_id], dim=0)"
   ]
  },
  {
   "cell_type": "code",
   "execution_count": 8,
   "id": "4167479b",
   "metadata": {},
   "outputs": [],
   "source": [
    "file_path = './NE Dataset/train_dti.csv'"
   ]
  },
  {
   "cell_type": "code",
   "execution_count": 9,
   "id": "66577e6e",
   "metadata": {},
   "outputs": [],
   "source": [
    "dfDTI = pd.read_csv(file_path)\n",
    "dfDTIpos = dfDTI[dfDTI['Label'] == 1]\n",
    "dfDTIneg = dfDTI[dfDTI['Label'] == 0]"
   ]
  },
  {
   "cell_type": "code",
   "execution_count": 10,
   "id": "bac6166f",
   "metadata": {},
   "outputs": [],
   "source": [
    "pos_interact_drug_id = pd.merge(dfDTIpos['Drug'], uniqueDrug,\n",
    "                                left_on='Drug', right_on='DrugId', how='left')\n",
    "pos_interact_drug_id = torch.from_numpy(pos_interact_drug_id['mappedId'].values)\n",
    "pos_interact_target_id = pd.merge(dfDTIpos['Target'], uniqueTraget,\n",
    "                                  left_on='Target', right_on='TargetId', how='left')\n",
    "pos_interact_target_id = torch.from_numpy(pos_interact_target_id['mappedId'].values)\n",
    "edge_index_pos_drug_to_target = torch.stack([pos_interact_drug_id, pos_interact_target_id], dim=0) # edge_index_pos_drug_to_target"
   ]
  },
  {
   "cell_type": "code",
   "execution_count": 11,
   "id": "9ef34779",
   "metadata": {},
   "outputs": [],
   "source": [
    "neg_interact_drug_id = pd.merge(dfDTIneg['Drug'], uniqueDrug,\n",
    "                                left_on='Drug', right_on='DrugId', how='left')\n",
    "neg_interact_drug_id = torch.from_numpy(neg_interact_drug_id['mappedId'].values)\n",
    "neg_interact_target_id = pd.merge(dfDTIneg['Target'], uniqueTraget,\n",
    "                                  left_on='Target', right_on='TargetId', how='left')\n",
    "neg_interact_target_id = torch.from_numpy(neg_interact_target_id['mappedId'].values)\n",
    "edge_index_neg_drug_to_target = torch.stack([neg_interact_drug_id, neg_interact_target_id], dim=0) # edge_index_neg_drug_to_target"
   ]
  },
  {
   "cell_type": "code",
   "execution_count": 12,
   "id": "4ded47c9",
   "metadata": {},
   "outputs": [],
   "source": [
    "pos_edge_label = dfDTIpos['Label']\n",
    "pos_edge_label = torch.tensor(pos_edge_label.values) # pos_edge_label"
   ]
  },
  {
   "cell_type": "code",
   "execution_count": 13,
   "id": "ab260715",
   "metadata": {},
   "outputs": [],
   "source": [
    "neg_edge_label = dfDTIneg['Label']\n",
    "neg_edge_label = torch.tensor(neg_edge_label.values) # neg_edge_label"
   ]
  },
  {
   "cell_type": "code",
   "execution_count": 14,
   "id": "fa917546",
   "metadata": {},
   "outputs": [],
   "source": [
    "# this function will be used to create edge_index_supervision and edge_label_supervision\n",
    "def split_edges(edge_index, edge_label, split_ratio=0.7):\n",
    "    num_edges = edge_index.size(1)\n",
    "    random_permutation = torch.randperm(num_edges)\n",
    "    split_edge = int(split_ratio * num_edges)\n",
    "    edge_index_meg_pass = edge_index[:, random_permutation[:split_edge]]\n",
    "    edge_index_supervision = edge_index[:, random_permutation[split_edge: ]]\n",
    "    edge_label_supervision = edge_label[random_permutation[split_edge: ]]\n",
    "    return edge_index_meg_pass, edge_index_supervision, edge_label_supervision"
   ]
  },
  {
   "cell_type": "code",
   "execution_count": 15,
   "id": "1a846179",
   "metadata": {},
   "outputs": [],
   "source": [
    "# creating edge_index_supervision and edge_label_supervision\n",
    "edge_index_meg_pass, pos_edge_index_supervision, pos_edge_label_supervision = split_edges(edge_index_pos_drug_to_target, pos_edge_label)\n",
    "dropped_edge_index, neg_edge_index_supervision, neg_edge_label_supervision = split_edges(edge_index_neg_drug_to_target, neg_edge_label)\n",
    "edge_index_supervision = torch.cat((pos_edge_index_supervision, neg_edge_index_supervision), dim=1)\n",
    "edge_label_supervision = torch.cat((pos_edge_label_supervision, neg_edge_label_supervision), dim=0)\n",
    "random_permutation = torch.randperm(1424)\n",
    "edge_index_supervision = edge_index_supervision[:, random_permutation]\n",
    "edge_label_supervision = edge_label_supervision[random_permutation]"
   ]
  },
  {
   "cell_type": "code",
   "execution_count": 16,
   "id": "24cafcbe",
   "metadata": {},
   "outputs": [],
   "source": [
    "# creating trainData\n",
    "# adding node and features of drug\n",
    "trainData = HeteroData()\n",
    "trainData['drug'].node_id = torch.arange(drug_feat.size(0))\n",
    "trainData['drug'].x = drug_feat"
   ]
  },
  {
   "cell_type": "code",
   "execution_count": 17,
   "id": "c7e8b05b",
   "metadata": {},
   "outputs": [],
   "source": [
    "# adding node and features of target\n",
    "trainData['target'].node_id = torch.arange(target_feat.size(0))\n",
    "trainData['target'].x = target_feat"
   ]
  },
  {
   "cell_type": "code",
   "execution_count": 18,
   "id": "d6a1e25d",
   "metadata": {},
   "outputs": [],
   "source": [
    "# adding all the edges which will be used for message passing to the heterogeneous data\n",
    "trainData[\"drug\", \"interact\", \"target\"].edge_index = edge_index_meg_pass\n",
    "trainData[\"drug\", \"similar\", \"drug\"].edge_index = edge_index_drug_to_drug\n",
    "trainData[\"target\", \"similar\", \"target\"].edge_index = edge_index_target_to_target"
   ]
  },
  {
   "cell_type": "code",
   "execution_count": 19,
   "id": "50504432",
   "metadata": {},
   "outputs": [],
   "source": [
    "trainData = T.ToUndirected()(trainData) # making all the message passing edges undirected"
   ]
  },
  {
   "cell_type": "code",
   "execution_count": 20,
   "id": "0e93cbf0",
   "metadata": {},
   "outputs": [],
   "source": [
    "# adding edge index and edge label for supervision to the data\n",
    "trainData[\"drug\", \"interact\", \"target\"].edge_label = edge_label_supervision\n",
    "trainData[\"drug\", \"interact\", \"target\"].edge_label_index = edge_index_supervision"
   ]
  },
  {
   "cell_type": "code",
   "execution_count": 21,
   "id": "759a7175",
   "metadata": {},
   "outputs": [
    {
     "data": {
      "text/plain": [
       "HeteroData(\n",
       "  drug={\n",
       "    node_id=[1482],\n",
       "    x=[1482, 1444],\n",
       "  },\n",
       "  target={\n",
       "    node_id=[1408],\n",
       "    x=[1408, 4159],\n",
       "  },\n",
       "  (drug, interact, target)={\n",
       "    edge_index=[2, 1659],\n",
       "    edge_label=[1424],\n",
       "    edge_label_index=[2, 1424],\n",
       "  },\n",
       "  (drug, similar, drug)={ edge_index=[2, 1246640] },\n",
       "  (target, similar, target)={ edge_index=[2, 1043321] },\n",
       "  (target, rev_interact, drug)={ edge_index=[2, 1659] }\n",
       ")"
      ]
     },
     "execution_count": 21,
     "metadata": {},
     "output_type": "execute_result"
    }
   ],
   "source": [
    "trainData"
   ]
  },
  {
   "cell_type": "code",
   "execution_count": 26,
   "id": "c598d7c8",
   "metadata": {},
   "outputs": [],
   "source": [
    "# Now i will revisit how I created valData"
   ]
  },
  {
   "cell_type": "code",
   "execution_count": 22,
   "id": "7b2f37a7",
   "metadata": {},
   "outputs": [
    {
     "name": "stderr",
     "output_type": "stream",
     "text": [
      "/tmp/ipykernel_1846610/3262938377.py:3: DtypeWarning: Columns (663,786,787,832,835,869,905,906,951,954,988,1146,1411) have mixed types. Specify dtype option on import or set low_memory=False.\n",
      "  dfDrug = pd.read_csv(file_path)\n"
     ]
    }
   ],
   "source": [
    "# creating drug_feat\n",
    "file_path = './NE Dataset/drug_attr.csv'\n",
    "dfDrug = pd.read_csv(file_path)\n",
    "dfDrugFeat = dfDrug.drop(dfDrug.columns[:2], axis=1)\n",
    "dfDrugFeat.replace('#NAME?', np.nan, inplace=True) # replacing the missing values with 0\n",
    "dfDrugFeat.fillna(0, inplace=True)\n",
    "dfDrugFeat = dfDrugFeat.applymap(to_float)\n",
    "dfDrugFeat.replace([np.inf], 0, inplace=True) # replacing the inf value with zero\n",
    "scaler = MinMaxScaler(feature_range=(-1, 1)) # NORMALIZE HERE\n",
    "dfDrugFeat = scaler.fit_transform(dfDrugFeat)\n",
    "drug_feat = torch.from_numpy(dfDrugFeat).to(torch.float)\n",
    "# creating target_feat\n",
    "file_path = './NE Dataset/protein_attr.csv'\n",
    "dfTarget = pd.read_csv(file_path)\n",
    "dfTargetFeat = dfTarget.drop(dfTarget.columns[:2], axis=1)\n",
    "target_feat = torch.from_numpy(dfTargetFeat.values).to(torch.float)\n",
    "# unique drug and unique target mapping\n",
    "uniqueDrug = dfDrug['1'].unique()\n",
    "uniqueDrug = pd.DataFrame(data={\n",
    "    'DrugId': uniqueDrug,\n",
    "    'mappedId': pd.RangeIndex(len(uniqueDrug)),\n",
    "})\n",
    "uniqueTraget = dfTarget['#'].unique()\n",
    "uniqueTraget = pd.DataFrame(data={\n",
    "    'TargetId': uniqueTraget,\n",
    "    'mappedId': pd.RangeIndex(len(uniqueTraget)),\n",
    "})"
   ]
  },
  {
   "cell_type": "code",
   "execution_count": 23,
   "id": "1d0d7b0d",
   "metadata": {},
   "outputs": [],
   "source": [
    "# creating edge_index_drug_to_drug\n",
    "file_path = './NE Dataset/train_ddi.csv'\n",
    "dfDDI = pd.read_csv(file_path)\n",
    "source_drug_id = pd.merge(dfDDI['Drug'], uniqueDrug,\n",
    "                          left_on='Drug', right_on='DrugId', how='left')\n",
    "source_drug_id = torch.from_numpy(source_drug_id['mappedId'].values)\n",
    "destination_drug_id = pd.merge(dfDDI['Target'], uniqueDrug,\n",
    "                               left_on='Target', right_on='DrugId', how='left')\n",
    "destination_drug_id = torch.from_numpy(destination_drug_id['mappedId'].values)\n",
    "edge_index_drug_to_drug = torch.stack([source_drug_id, destination_drug_id], dim=0)"
   ]
  },
  {
   "cell_type": "code",
   "execution_count": 24,
   "id": "1b635a54",
   "metadata": {},
   "outputs": [],
   "source": [
    " # creating edge_index_target_to_target\n",
    "file_path = './NE Dataset/train_ppi.csv'\n",
    "dfPPI = pd.read_csv(file_path)\n",
    "source_target_id = pd.merge(dfPPI['Drug'], uniqueTraget,\n",
    "                            left_on='Drug', right_on='TargetId', how='left')\n",
    "source_target_id = torch.from_numpy(source_target_id['mappedId'].values)\n",
    "destination_target_id = pd.merge(dfPPI['Target'], uniqueTraget,\n",
    "                                left_on='Target', right_on='TargetId', how='left')\n",
    "destination_target_id = torch.from_numpy(destination_target_id['mappedId'].values)\n",
    "edge_index_target_to_target = torch.stack([source_target_id, destination_target_id], dim=0)"
   ]
  },
  {
   "cell_type": "code",
   "execution_count": 25,
   "id": "3581d348",
   "metadata": {},
   "outputs": [],
   "source": [
    "# creating edge_index_pos_drug_to_target [these edges will be used for message passing]\n",
    "file_path = './NE Dataset/train_dti.csv'\n",
    "dfDTI = pd.read_csv(file_path)\n",
    "dfDTIpos = dfDTI[dfDTI['Label'] == 1]\n",
    "pos_interact_drug_id = pd.merge(dfDTIpos['Drug'], uniqueDrug,\n",
    "                                left_on='Drug', right_on='DrugId', how='left')\n",
    "pos_interact_drug_id = torch.from_numpy(pos_interact_drug_id['mappedId'].values)\n",
    "pos_interact_target_id = pd.merge(dfDTIpos['Target'], uniqueTraget,\n",
    "                                      left_on='Target', right_on='TargetId', how='left')\n",
    "pos_interact_target_id = torch.from_numpy(pos_interact_target_id['mappedId'].values)\n",
    "edge_index_pos_drug_to_target = torch.stack([pos_interact_drug_id, pos_interact_target_id], dim=0)"
   ]
  },
  {
   "cell_type": "code",
   "execution_count": 26,
   "id": "b693fe45",
   "metadata": {},
   "outputs": [],
   "source": [
    "# creating supervision edge and label\n",
    "file_path = './NE Dataset/val_dti.csv'\n",
    "dfvalDTI = pd.read_csv(file_path)\n",
    "edge_index_supervision_drug = pd.merge(dfvalDTI['Drug'], uniqueDrug,\n",
    "                                       left_on='Drug', right_on='DrugId', how='left')\n",
    "edge_index_supervision_drug = torch.from_numpy(edge_index_supervision_drug['mappedId'].values)\n",
    "edge_index_supervision_target = pd.merge(dfvalDTI['Target'], uniqueTraget,\n",
    "                                        left_on='Target', right_on='TargetId', how='left')\n",
    "edge_index_supervision_target = torch.from_numpy(edge_index_supervision_target['mappedId'].values)\n",
    "edge_index_supervision = torch.stack([edge_index_supervision_drug, edge_index_supervision_target], dim=0)\n",
    "edge_label_supervision = dfvalDTI['Label']\n",
    "edge_label_supervision = torch.tensor(edge_label_supervision.values)\n",
    "random_permutationVal = torch.randperm(948)\n",
    "edge_index_supervision = edge_index_supervision[:, random_permutationVal]\n",
    "edge_label_supervision = edge_label_supervision[random_permutationVal]"
   ]
  },
  {
   "cell_type": "code",
   "execution_count": 27,
   "id": "7765d01f",
   "metadata": {},
   "outputs": [],
   "source": [
    "# creating the heterogeneous graph valData\n",
    "valData = HeteroData()"
   ]
  },
  {
   "cell_type": "code",
   "execution_count": 28,
   "id": "b5b22575",
   "metadata": {},
   "outputs": [],
   "source": [
    "# adding node and features of drug\n",
    "valData['drug'].node_id = torch.arange(drug_feat.size(0))\n",
    "valData['drug'].x = drug_feat"
   ]
  },
  {
   "cell_type": "code",
   "execution_count": 29,
   "id": "a1b8906f",
   "metadata": {},
   "outputs": [],
   "source": [
    "# adding node and features of target\n",
    "valData['target'].node_id = torch.arange(target_feat.size(0))\n",
    "valData['target'].x = target_feat"
   ]
  },
  {
   "cell_type": "code",
   "execution_count": 30,
   "id": "56b7c2ad",
   "metadata": {},
   "outputs": [],
   "source": [
    "# adding all the edges which will be used for message passing to the heterogeneous data\n",
    "valData[\"drug\", \"interact\", \"target\"].edge_index = edge_index_pos_drug_to_target\n",
    "valData[\"drug\", \"similar\", \"drug\"].edge_index = edge_index_drug_to_drug\n",
    "valData[\"target\", \"similar\", \"target\"].edge_index = edge_index_target_to_target"
   ]
  },
  {
   "cell_type": "code",
   "execution_count": 31,
   "id": "b2a70836",
   "metadata": {},
   "outputs": [],
   "source": [
    "# making all the edges undirected\n",
    "valData = T.ToUndirected()(valData)"
   ]
  },
  {
   "cell_type": "code",
   "execution_count": 32,
   "id": "16395d68",
   "metadata": {},
   "outputs": [],
   "source": [
    "# adding edge index and edge label for supervision to the data\n",
    "valData[\"drug\", \"interact\", \"target\"].edge_label = edge_label_supervision\n",
    "valData[\"drug\", \"interact\", \"target\"].edge_label_index = edge_index_supervision"
   ]
  },
  {
   "cell_type": "code",
   "execution_count": 33,
   "id": "d9a6d40c",
   "metadata": {},
   "outputs": [
    {
     "data": {
      "text/plain": [
       "HeteroData(\n",
       "  drug={\n",
       "    node_id=[1482],\n",
       "    x=[1482, 1444],\n",
       "  },\n",
       "  target={\n",
       "    node_id=[1408],\n",
       "    x=[1408, 4159],\n",
       "  },\n",
       "  (drug, interact, target)={\n",
       "    edge_index=[2, 2371],\n",
       "    edge_label=[948],\n",
       "    edge_label_index=[2, 948],\n",
       "  },\n",
       "  (drug, similar, drug)={ edge_index=[2, 1246640] },\n",
       "  (target, similar, target)={ edge_index=[2, 1043321] },\n",
       "  (target, rev_interact, drug)={ edge_index=[2, 2371] }\n",
       ")"
      ]
     },
     "execution_count": 33,
     "metadata": {},
     "output_type": "execute_result"
    }
   ],
   "source": [
    "valData"
   ]
  },
  {
   "cell_type": "code",
   "execution_count": 49,
   "id": "04de31b2",
   "metadata": {},
   "outputs": [],
   "source": [
    "# now I will create trainData2\n",
    "# in this trainData2 -> 90% edges from train_dti will be used to for supervision\n",
    "# so split_ratio function er ratio = 0.1 set kore train_dti er pos gulu devide korte hbe"
   ]
  },
  {
   "cell_type": "code",
   "execution_count": null,
   "id": "e76e41e6",
   "metadata": {},
   "outputs": [],
   "source": [
    "# for trainData2\n",
    "# (drug, interact, target)={\n",
    "# edge_index=[2, 237]    \n",
    "# edge_label = [5216],\n",
    "# edge_label_index = [2, 5216],\n",
    "#}"
   ]
  },
  {
   "cell_type": "code",
   "execution_count": 49,
   "id": "609e4fb7",
   "metadata": {},
   "outputs": [],
   "source": [
    "# creation of trainData2"
   ]
  },
  {
   "cell_type": "code",
   "execution_count": 34,
   "id": "2dd3c322",
   "metadata": {},
   "outputs": [
    {
     "name": "stderr",
     "output_type": "stream",
     "text": [
      "/tmp/ipykernel_1846610/3262938377.py:3: DtypeWarning: Columns (663,786,787,832,835,869,905,906,951,954,988,1146,1411) have mixed types. Specify dtype option on import or set low_memory=False.\n",
      "  dfDrug = pd.read_csv(file_path)\n"
     ]
    }
   ],
   "source": [
    "# creating drug_feat\n",
    "file_path = './NE Dataset/drug_attr.csv'\n",
    "dfDrug = pd.read_csv(file_path)\n",
    "dfDrugFeat = dfDrug.drop(dfDrug.columns[:2], axis=1)\n",
    "dfDrugFeat.replace('#NAME?', np.nan, inplace=True) # replacing the missing values with 0\n",
    "dfDrugFeat.fillna(0, inplace=True)\n",
    "dfDrugFeat = dfDrugFeat.applymap(to_float)\n",
    "dfDrugFeat.replace([np.inf], 0, inplace=True) # replacing the inf value with zero\n",
    "scaler = MinMaxScaler(feature_range=(-1, 1)) # NORMALIZE HERE\n",
    "dfDrugFeat = scaler.fit_transform(dfDrugFeat)\n",
    "drug_feat = torch.from_numpy(dfDrugFeat).to(torch.float)\n",
    "# creating target_feat\n",
    "file_path = './NE Dataset/protein_attr.csv'\n",
    "dfTarget = pd.read_csv(file_path)\n",
    "dfTargetFeat = dfTarget.drop(dfTarget.columns[:2], axis=1)\n",
    "target_feat = torch.from_numpy(dfTargetFeat.values).to(torch.float)\n",
    "# unique drug and unique target mapping\n",
    "uniqueDrug = dfDrug['1'].unique()\n",
    "uniqueDrug = pd.DataFrame(data={\n",
    "    'DrugId': uniqueDrug,\n",
    "    'mappedId': pd.RangeIndex(len(uniqueDrug)),\n",
    "})\n",
    "uniqueTraget = dfTarget['#'].unique()\n",
    "uniqueTraget = pd.DataFrame(data={\n",
    "    'TargetId': uniqueTraget,\n",
    "    'mappedId': pd.RangeIndex(len(uniqueTraget)),\n",
    "})"
   ]
  },
  {
   "cell_type": "code",
   "execution_count": 35,
   "id": "5037a610",
   "metadata": {},
   "outputs": [],
   "source": [
    "# creating edge_index_drug_to_drug\n",
    "file_path = './NE Dataset/train_ddi.csv'\n",
    "dfDDI = pd.read_csv(file_path)\n",
    "source_drug_id = pd.merge(dfDDI['Drug'], uniqueDrug,\n",
    "                          left_on='Drug', right_on='DrugId', how='left')\n",
    "source_drug_id = torch.from_numpy(source_drug_id['mappedId'].values)\n",
    "destination_drug_id = pd.merge(dfDDI['Target'], uniqueDrug,\n",
    "                               left_on='Target', right_on='DrugId', how='left')\n",
    "destination_drug_id = torch.from_numpy(destination_drug_id['mappedId'].values)\n",
    "edge_index_drug_to_drug = torch.stack([source_drug_id, destination_drug_id], dim=0)"
   ]
  },
  {
   "cell_type": "code",
   "execution_count": 36,
   "id": "e44deadc",
   "metadata": {},
   "outputs": [],
   "source": [
    "# creating edge_index_target_to_target\n",
    "file_path = './NE Dataset/train_ppi.csv'\n",
    "dfPPI = pd.read_csv(file_path)\n",
    "source_target_id = pd.merge(dfPPI['Drug'], uniqueTraget,\n",
    "                            left_on='Drug', right_on='TargetId', how='left')\n",
    "source_target_id = torch.from_numpy(source_target_id['mappedId'].values)\n",
    "destination_target_id = pd.merge(dfPPI['Target'], uniqueTraget,\n",
    "                                left_on='Target', right_on='TargetId', how='left')\n",
    "destination_target_id = torch.from_numpy(destination_target_id['mappedId'].values)\n",
    "edge_index_target_to_target = torch.stack([source_target_id, destination_target_id], dim=0)"
   ]
  },
  {
   "cell_type": "code",
   "execution_count": 37,
   "id": "6db9933e",
   "metadata": {},
   "outputs": [],
   "source": [
    "file_path = './NE Dataset/train_dti.csv'"
   ]
  },
  {
   "cell_type": "code",
   "execution_count": 38,
   "id": "ce0616db",
   "metadata": {},
   "outputs": [],
   "source": [
    "dfDTI = pd.read_csv(file_path)"
   ]
  },
  {
   "cell_type": "code",
   "execution_count": 39,
   "id": "2dd702bb",
   "metadata": {},
   "outputs": [],
   "source": [
    "dfDTIpos = dfDTI[dfDTI['Label'] == 1]"
   ]
  },
  {
   "cell_type": "code",
   "execution_count": 40,
   "id": "ef9f4508",
   "metadata": {},
   "outputs": [],
   "source": [
    "dfDTIneg = dfDTI[dfDTI['Label'] == 0]"
   ]
  },
  {
   "cell_type": "code",
   "execution_count": 41,
   "id": "e8f9cde5",
   "metadata": {},
   "outputs": [],
   "source": [
    "pos_interact_drug_id = pd.merge(dfDTIpos['Drug'], uniqueDrug,\n",
    "                                left_on='Drug', right_on='DrugId', how='left')\n",
    "pos_interact_drug_id = torch.from_numpy(pos_interact_drug_id['mappedId'].values)\n",
    "pos_interact_target_id = pd.merge(dfDTIpos['Target'], uniqueTraget,\n",
    "                                 left_on='Target', right_on='TargetId', how='left')\n",
    "pos_interact_target_id = torch.from_numpy(pos_interact_target_id['mappedId'].values)"
   ]
  },
  {
   "cell_type": "code",
   "execution_count": 42,
   "id": "c65a8922",
   "metadata": {},
   "outputs": [],
   "source": [
    "edge_index_pos_drug_to_target = torch.stack([pos_interact_drug_id, pos_interact_target_id], dim=0) # edge_index_pos_drug_to_target"
   ]
  },
  {
   "cell_type": "code",
   "execution_count": 43,
   "id": "87689a86",
   "metadata": {},
   "outputs": [
    {
     "data": {
      "text/plain": [
       "torch.Size([2, 2371])"
      ]
     },
     "execution_count": 43,
     "metadata": {},
     "output_type": "execute_result"
    }
   ],
   "source": [
    "edge_index_pos_drug_to_target.size()"
   ]
  },
  {
   "cell_type": "code",
   "execution_count": 44,
   "id": "83088e8a",
   "metadata": {},
   "outputs": [],
   "source": [
    "neg_interact_drug_id = pd.merge(dfDTIneg['Drug'], uniqueDrug,\n",
    "                                left_on='Drug', right_on='DrugId', how='left')\n",
    "neg_interact_drug_id = torch.from_numpy(neg_interact_drug_id['mappedId'].values)\n",
    "neg_interact_target_id = pd.merge(dfDTIneg['Target'], uniqueTraget,\n",
    "                                  left_on='Target', right_on='TargetId', how='left')\n",
    "neg_interact_target_id = torch.from_numpy(neg_interact_target_id['mappedId'].values)\n",
    "edge_index_neg_drug_to_target = torch.stack([neg_interact_drug_id, neg_interact_target_id], dim=0)"
   ]
  },
  {
   "cell_type": "code",
   "execution_count": 45,
   "id": "5526ead4",
   "metadata": {},
   "outputs": [
    {
     "data": {
      "text/plain": [
       "torch.Size([2, 2371])"
      ]
     },
     "execution_count": 45,
     "metadata": {},
     "output_type": "execute_result"
    }
   ],
   "source": [
    "edge_index_neg_drug_to_target.size()"
   ]
  },
  {
   "cell_type": "code",
   "execution_count": 46,
   "id": "e38bd487",
   "metadata": {},
   "outputs": [],
   "source": [
    "pos_edge_label = dfDTIpos['Label']\n",
    "pos_edge_label = torch.tensor(pos_edge_label.values)\n",
    "neg_edge_label = dfDTIneg['Label']\n",
    "neg_edge_label = torch.tensor(neg_edge_label.values)"
   ]
  },
  {
   "cell_type": "code",
   "execution_count": 47,
   "id": "7b86f90d",
   "metadata": {},
   "outputs": [],
   "source": [
    "# this function will be used to create edge_index_supervision and edge_label_supervision\n",
    "def split_edges(edge_index, edge_label, split_ratio=0.7):\n",
    "    num_edges = edge_index.size(1)\n",
    "    random_permutation = torch.randperm(num_edges)\n",
    "    split_edge = int(split_ratio * num_edges)\n",
    "    edge_index_meg_pass = edge_index[:, random_permutation[:split_edge]]\n",
    "    edge_index_supervision = edge_index[:, random_permutation[split_edge: ]]\n",
    "    edge_label_supervision = edge_label[random_permutation[split_edge: ]]\n",
    "    return edge_index_meg_pass, edge_index_supervision, edge_label_supervision"
   ]
  },
  {
   "cell_type": "code",
   "execution_count": 48,
   "id": "974a9ffc",
   "metadata": {},
   "outputs": [],
   "source": [
    "edge_index_meg_pass, pos_edge_index_supervision, pos_edge_label_supervision = split_edges(edge_index_pos_drug_to_target, pos_edge_label, 0.1)"
   ]
  },
  {
   "cell_type": "code",
   "execution_count": 51,
   "id": "87737204",
   "metadata": {},
   "outputs": [],
   "source": [
    "# pos_edge_index_supervision.size()"
   ]
  },
  {
   "cell_type": "code",
   "execution_count": 52,
   "id": "0992bf4a",
   "metadata": {},
   "outputs": [],
   "source": [
    "dropped_edge_index, neg_edge_index_supervision, neg_edge_label_supervision = split_edges(edge_index_neg_drug_to_target, neg_edge_label, 0.1)"
   ]
  },
  {
   "cell_type": "code",
   "execution_count": 71,
   "id": "ad7763de",
   "metadata": {},
   "outputs": [],
   "source": [
    "# neg_edge_index_supervision.size()"
   ]
  },
  {
   "cell_type": "code",
   "execution_count": 53,
   "id": "3a468915",
   "metadata": {},
   "outputs": [],
   "source": [
    "edge_index_supervision_from_train_dti = torch.cat((pos_edge_index_supervision, neg_edge_index_supervision), dim=1)\n",
    "edge_label_supervision_from_train_dti = torch.cat((pos_edge_label_supervision, neg_edge_label_supervision), dim=0)"
   ]
  },
  {
   "cell_type": "code",
   "execution_count": 55,
   "id": "30384d4c",
   "metadata": {},
   "outputs": [],
   "source": [
    "# edge_label_supervision_from_train_dti.size()"
   ]
  },
  {
   "cell_type": "code",
   "execution_count": 56,
   "id": "836c7ae7",
   "metadata": {},
   "outputs": [
    {
     "data": {
      "text/plain": [
       "tensor([[ 449,  341, 1481,  ...,  824,  612,  784],\n",
       "        [ 288,    9,  787,  ...,  190,  321,  139]])"
      ]
     },
     "execution_count": 56,
     "metadata": {},
     "output_type": "execute_result"
    }
   ],
   "source": [
    "edge_index_supervision_from_train_dti"
   ]
  },
  {
   "cell_type": "code",
   "execution_count": 57,
   "id": "775befd6",
   "metadata": {},
   "outputs": [
    {
     "data": {
      "text/plain": [
       "tensor([1, 1, 1,  ..., 0, 0, 0])"
      ]
     },
     "execution_count": 57,
     "metadata": {},
     "output_type": "execute_result"
    }
   ],
   "source": [
    "edge_label_supervision_from_train_dti"
   ]
  },
  {
   "cell_type": "code",
   "execution_count": 59,
   "id": "84216f52",
   "metadata": {},
   "outputs": [],
   "source": [
    "random_permutation = torch.randperm(4268)"
   ]
  },
  {
   "cell_type": "code",
   "execution_count": 60,
   "id": "2d80603b",
   "metadata": {},
   "outputs": [],
   "source": [
    "edge_index_supervision_from_train_dti = edge_index_supervision_from_train_dti[:, random_permutation]"
   ]
  },
  {
   "cell_type": "code",
   "execution_count": 61,
   "id": "44feb731",
   "metadata": {},
   "outputs": [],
   "source": [
    "edge_label_supervision_from_train_dti = edge_label_supervision_from_train_dti[random_permutation]"
   ]
  },
  {
   "cell_type": "code",
   "execution_count": 62,
   "id": "63531a5b",
   "metadata": {},
   "outputs": [
    {
     "data": {
      "text/plain": [
       "tensor([[ 858,  805,  468,  ...,  925,  716,  716],\n",
       "        [ 942,  676,  565,  ...,  662,  372, 1329]])"
      ]
     },
     "execution_count": 62,
     "metadata": {},
     "output_type": "execute_result"
    }
   ],
   "source": [
    "edge_index_supervision_from_train_dti"
   ]
  },
  {
   "cell_type": "code",
   "execution_count": 63,
   "id": "27e1ac7e",
   "metadata": {},
   "outputs": [
    {
     "data": {
      "text/plain": [
       "tensor([1, 0, 0,  ..., 1, 1, 0])"
      ]
     },
     "execution_count": 63,
     "metadata": {},
     "output_type": "execute_result"
    }
   ],
   "source": [
    "edge_label_supervision_from_train_dti"
   ]
  },
  {
   "cell_type": "code",
   "execution_count": 64,
   "id": "28776938",
   "metadata": {},
   "outputs": [],
   "source": [
    " # creating supervision edge and label from val_dti\n",
    "file_path = './NE Dataset/val_dti.csv'\n",
    "dfvalDTI = pd.read_csv(file_path)"
   ]
  },
  {
   "cell_type": "code",
   "execution_count": 65,
   "id": "0c3f5ba7",
   "metadata": {},
   "outputs": [],
   "source": [
    "edge_index_supervision_drug = pd.merge(dfvalDTI['Drug'], uniqueDrug,\n",
    "                                       left_on='Drug', right_on='DrugId', how='left')\n",
    "edge_index_supervision_drug = torch.from_numpy(edge_index_supervision_drug['mappedId'].values)\n",
    "edge_index_supervision_target = pd.merge(dfvalDTI['Target'], uniqueTraget,\n",
    "                                         left_on='Target', right_on='TargetId', how='left')\n",
    "edge_index_supervision_target = torch.from_numpy(edge_index_supervision_target['mappedId'].values)\n",
    "edge_index_supervision = torch.stack([edge_index_supervision_drug, edge_index_supervision_target], dim=0)\n",
    "edge_label_supervision = dfvalDTI['Label']\n",
    "edge_label_supervision = torch.tensor(edge_label_supervision.values)\n",
    "random_permutationVal = torch.randperm(948)\n",
    "edge_index_supervision_from_val_dti = edge_index_supervision[:, random_permutationVal]\n",
    "edge_label_supervision_from_val_dti = edge_label_supervision[random_permutationVal]"
   ]
  },
  {
   "cell_type": "code",
   "execution_count": 68,
   "id": "18384b86",
   "metadata": {},
   "outputs": [
    {
     "data": {
      "text/plain": [
       "torch.Size([2, 4268])"
      ]
     },
     "execution_count": 68,
     "metadata": {},
     "output_type": "execute_result"
    }
   ],
   "source": [
    "edge_index_supervision_from_train_dti.size()"
   ]
  },
  {
   "cell_type": "code",
   "execution_count": 70,
   "id": "8b347142",
   "metadata": {},
   "outputs": [
    {
     "data": {
      "text/plain": [
       "tensor([[ 858,  805,  468,  ...,  925,  716,  716],\n",
       "        [ 942,  676,  565,  ...,  662,  372, 1329]])"
      ]
     },
     "execution_count": 70,
     "metadata": {},
     "output_type": "execute_result"
    }
   ],
   "source": [
    "edge_index_supervision_from_train_dti"
   ]
  },
  {
   "cell_type": "code",
   "execution_count": 66,
   "id": "eea4c079",
   "metadata": {},
   "outputs": [
    {
     "data": {
      "text/plain": [
       "torch.Size([2, 948])"
      ]
     },
     "execution_count": 66,
     "metadata": {},
     "output_type": "execute_result"
    }
   ],
   "source": [
    "edge_index_supervision_from_val_dti.size()"
   ]
  },
  {
   "cell_type": "code",
   "execution_count": 71,
   "id": "8777c4cd",
   "metadata": {},
   "outputs": [
    {
     "data": {
      "text/plain": [
       "tensor([[ 456,  528,  725,  ...,  272,  143, 1266],\n",
       "        [ 176,  111, 1293,  ..., 1284, 1055,  371]])"
      ]
     },
     "execution_count": 71,
     "metadata": {},
     "output_type": "execute_result"
    }
   ],
   "source": [
    "edge_index_supervision_from_val_dti"
   ]
  },
  {
   "cell_type": "code",
   "execution_count": null,
   "id": "77f1e6dc",
   "metadata": {},
   "outputs": [],
   "source": [
    "# concatenate edge_index_supervision_from_train_dti and edge_index_supervision_from_val_dti\n",
    "# and label also\n",
    "# define trainData2 and do the rest"
   ]
  },
  {
   "cell_type": "code",
   "execution_count": 72,
   "id": "a1a34914",
   "metadata": {},
   "outputs": [],
   "source": [
    "edge_index_supervision = torch.cat((edge_index_supervision_from_train_dti, edge_index_supervision_from_val_dti), dim=1)"
   ]
  },
  {
   "cell_type": "code",
   "execution_count": 78,
   "id": "673124f8",
   "metadata": {},
   "outputs": [],
   "source": [
    "# edge_index_supervision.size()"
   ]
  },
  {
   "cell_type": "code",
   "execution_count": 76,
   "id": "e5ca8fe4",
   "metadata": {},
   "outputs": [],
   "source": [
    "edge_label_supervision = torch.cat((edge_label_supervision_from_train_dti, edge_label_supervision_from_val_dti), dim=0)"
   ]
  },
  {
   "cell_type": "code",
   "execution_count": 79,
   "id": "6aec40f6",
   "metadata": {},
   "outputs": [],
   "source": [
    "# edge_label_supervision.size()"
   ]
  },
  {
   "cell_type": "code",
   "execution_count": 80,
   "id": "7f6ad65f",
   "metadata": {},
   "outputs": [],
   "source": [
    "trainData2 = HeteroData()"
   ]
  },
  {
   "cell_type": "code",
   "execution_count": 81,
   "id": "ea6fb2bf",
   "metadata": {},
   "outputs": [],
   "source": [
    "# adding node and features of drug\n",
    "trainData2['drug'].node_id = torch.arange(drug_feat.size(0))\n",
    "trainData2['drug'].x = drug_feat"
   ]
  },
  {
   "cell_type": "code",
   "execution_count": 82,
   "id": "81001f01",
   "metadata": {},
   "outputs": [],
   "source": [
    "# adding node and features of target\n",
    "trainData2['target'].node_id = torch.arange(target_feat.size(0))\n",
    "trainData2['target'].x = target_feat"
   ]
  },
  {
   "cell_type": "code",
   "execution_count": 85,
   "id": "15c09306",
   "metadata": {},
   "outputs": [
    {
     "data": {
      "text/plain": [
       "torch.Size([2, 237])"
      ]
     },
     "execution_count": 85,
     "metadata": {},
     "output_type": "execute_result"
    }
   ],
   "source": [
    "edge_index_meg_pass.size()"
   ]
  },
  {
   "cell_type": "code",
   "execution_count": 88,
   "id": "5373d310",
   "metadata": {},
   "outputs": [],
   "source": [
    "# adding all the edges which will be used for message passing to the heterogeneous data\n",
    "trainData2[\"drug\", \"interact\", \"target\"].edge_index = edge_index_meg_pass\n",
    "trainData2[\"drug\", \"similar\", \"drug\"].edge_index = edge_index_drug_to_drug\n",
    "trainData2[\"target\", \"similar\", \"target\"].edge_index = edge_index_target_to_target"
   ]
  },
  {
   "cell_type": "code",
   "execution_count": 90,
   "id": "0b9f8239",
   "metadata": {},
   "outputs": [],
   "source": [
    "trainData2 = T.ToUndirected()(trainData2) # making all the message passing edges undirected"
   ]
  },
  {
   "cell_type": "code",
   "execution_count": 92,
   "id": "260bc35c",
   "metadata": {},
   "outputs": [],
   "source": [
    "# adding edge index and edge label for supervision to the data\n",
    "trainData2[\"drug\", \"interact\", \"target\"].edge_label = edge_label_supervision\n",
    "trainData2[\"drug\", \"interact\", \"target\"].edge_label_index = edge_index_supervision"
   ]
  },
  {
   "cell_type": "code",
   "execution_count": 95,
   "id": "92391957",
   "metadata": {},
   "outputs": [
    {
     "data": {
      "text/plain": [
       "HeteroData(\n",
       "  drug={\n",
       "    node_id=[1482],\n",
       "    x=[1482, 1444],\n",
       "  },\n",
       "  target={\n",
       "    node_id=[1408],\n",
       "    x=[1408, 4159],\n",
       "  },\n",
       "  (drug, interact, target)={\n",
       "    edge_index=[2, 2371],\n",
       "    edge_label=[948],\n",
       "    edge_label_index=[2, 948],\n",
       "  },\n",
       "  (drug, similar, drug)={ edge_index=[2, 1246640] },\n",
       "  (target, similar, target)={ edge_index=[2, 1043321] },\n",
       "  (target, rev_interact, drug)={ edge_index=[2, 2371] }\n",
       ")"
      ]
     },
     "execution_count": 95,
     "metadata": {},
     "output_type": "execute_result"
    }
   ],
   "source": [
    "valData"
   ]
  },
  {
   "cell_type": "code",
   "execution_count": 93,
   "id": "53148c4d",
   "metadata": {},
   "outputs": [
    {
     "data": {
      "text/plain": [
       "HeteroData(\n",
       "  drug={\n",
       "    node_id=[1482],\n",
       "    x=[1482, 1444],\n",
       "  },\n",
       "  target={\n",
       "    node_id=[1408],\n",
       "    x=[1408, 4159],\n",
       "  },\n",
       "  (drug, interact, target)={\n",
       "    edge_index=[2, 237],\n",
       "    edge_label=[5216],\n",
       "    edge_label_index=[2, 5216],\n",
       "  },\n",
       "  (drug, similar, drug)={ edge_index=[2, 1246640] },\n",
       "  (target, similar, target)={ edge_index=[2, 1043321] },\n",
       "  (target, rev_interact, drug)={ edge_index=[2, 237] }\n",
       ")"
      ]
     },
     "execution_count": 93,
     "metadata": {},
     "output_type": "execute_result"
    }
   ],
   "source": [
    "trainData2"
   ]
  },
  {
   "cell_type": "code",
   "execution_count": null,
   "id": "c369b297",
   "metadata": {},
   "outputs": [],
   "source": [
    "# adding node and features of drug\n",
    "    trainData = HeteroData()\n",
    "    trainData['drug'].node_id = torch.arange(drug_feat.size(0))\n",
    "    trainData['drug'].x = drug_feat\n",
    "    # adding node and features of target\n",
    "    trainData['target'].node_id = torch.arange(target_feat.size(0))\n",
    "    trainData['target'].x = target_feat\n",
    "    # adding all the edges which will be used for message passing to the heterogeneous data\n",
    "    trainData[\"drug\", \"interact\", \"target\"].edge_index = edge_index_meg_pass\n",
    "    trainData[\"drug\", \"similar\", \"drug\"].edge_index = edge_index_drug_to_drug\n",
    "    trainData[\"target\", \"similar\", \"target\"].edge_index = edge_index_target_to_target\n",
    "    trainData = T.ToUndirected()(trainData) # making all the message passing edges undirected\n",
    "    # adding edge index and edge label for supervision to the data\n",
    "    trainData[\"drug\", \"interact\", \"target\"].edge_label = edge_label_supervision\n",
    "    trainData[\"drug\", \"interact\", \"target\"].edge_label_index = edge_index_supervision"
   ]
  },
  {
   "cell_type": "code",
   "execution_count": null,
   "id": "f26d1d44",
   "metadata": {},
   "outputs": [],
   "source": [
    " # creating supervision edge and label\n",
    "file_path = './NE Dataset/val_dti.csv'\n",
    "dfvalDTI = pd.read_csv(file_path)\n",
    "edge_index_supervision_drug = pd.merge(dfvalDTI['Drug'], uniqueDrug,\n",
    "                                       left_on='Drug', right_on='DrugId', how='left')\n",
    "edge_index_supervision_drug = torch.from_numpy(edge_index_supervision_drug['mappedId'].values)\n",
    "edge_index_supervision_target = pd.merge(dfvalDTI['Target'], uniqueTraget,\n",
    "                                         left_on='Target', right_on='TargetId', how='left')\n",
    "edge_index_supervision_target = torch.from_numpy(edge_index_supervision_target['mappedId'].values)\n",
    "edge_index_supervision = torch.stack([edge_index_supervision_drug, edge_index_supervision_target], dim=0)\n",
    "edge_label_supervision = dfvalDTI['Label']\n",
    "edge_label_supervision = torch.tensor(edge_label_supervision.values)\n",
    "random_permutationVal = torch.randperm(948)\n",
    "edge_index_supervision = edge_index_supervision[:, random_permutationVal]\n",
    "edge_label_supervision = edge_label_supervision[random_permutationVal]"
   ]
  },
  {
   "cell_type": "code",
   "execution_count": 1,
   "id": "f5429fd6",
   "metadata": {},
   "outputs": [],
   "source": [
    "import pandas as pd\n",
    "import glob\n",
    "import os\n",
    "import torch\n",
    "from torch import Tensor\n",
    "import numpy as np\n",
    "from torch_geometric.data import HeteroData\n",
    "import torch_geometric.transforms as T\n",
    "from torch_geometric.nn import GCNConv, SAGEConv, GATConv, to_hetero\n",
    "import torch.nn.functional as F\n",
    "from sklearn.preprocessing import MinMaxScaler"
   ]
  },
  {
   "cell_type": "code",
   "execution_count": 2,
   "id": "e865596e",
   "metadata": {},
   "outputs": [],
   "source": [
    "# this function will be used to build drug_feat\n",
    "def to_float(value):\n",
    "    try:\n",
    "        return float(value)\n",
    "    except ValueError:\n",
    "        return float('nan')"
   ]
  },
  {
   "cell_type": "code",
   "execution_count": 3,
   "id": "2909cfda",
   "metadata": {},
   "outputs": [],
   "source": [
    "# this function will be used to create edge_index_supervision and edge_label_supervision\n",
    "def split_edges(edge_index, edge_label, split_ratio=0.7):\n",
    "    num_edges = edge_index.size(1)\n",
    "    random_permutation = torch.randperm(num_edges)\n",
    "    split_edge = int(split_ratio * num_edges)\n",
    "    edge_index_meg_pass = edge_index[:, random_permutation[:split_edge]]\n",
    "    edge_index_supervision = edge_index[:, random_permutation[split_edge: ]]\n",
    "    edge_label_supervision = edge_label[random_permutation[split_edge: ]]\n",
    "    return edge_index_meg_pass, edge_index_supervision, edge_label_supervision"
   ]
  },
  {
   "cell_type": "code",
   "execution_count": 4,
   "id": "39aeca9c",
   "metadata": {},
   "outputs": [],
   "source": [
    "# I will creat a function to build trainData"
   ]
  },
  {
   "cell_type": "code",
   "execution_count": 7,
   "id": "a676cc28",
   "metadata": {},
   "outputs": [],
   "source": [
    "def create_trainData():\n",
    "    # creating drug_feat\n",
    "    file_path = './NE Dataset/drug_attr.csv'\n",
    "    dfDrug = pd.read_csv(file_path)\n",
    "    dfDrugFeat = dfDrug.drop(dfDrug.columns[:2], axis=1)\n",
    "    dfDrugFeat.replace('#NAME?', np.nan, inplace=True) # replacing the missing values with 0\n",
    "    dfDrugFeat.fillna(0, inplace=True)\n",
    "    dfDrugFeat = dfDrugFeat.applymap(to_float)\n",
    "    dfDrugFeat.replace([np.inf], 0, inplace=True) # replacing the inf value with zero\n",
    "    scaler = MinMaxScaler(feature_range=(-1, 1)) # NORMALIZE HERE\n",
    "    dfDrugFeat = scaler.fit_transform(dfDrugFeat)\n",
    "    drug_feat = torch.from_numpy(dfDrugFeat).to(torch.float)\n",
    "    # creating target_feat\n",
    "    file_path = './NE Dataset/protein_attr.csv'\n",
    "    dfTarget = pd.read_csv(file_path)\n",
    "    dfTargetFeat = dfTarget.drop(dfTarget.columns[:2], axis=1)\n",
    "    target_feat = torch.from_numpy(dfTargetFeat.values).to(torch.float)\n",
    "    # unique drug and unique target mapping\n",
    "    uniqueDrug = dfDrug['1'].unique()\n",
    "    uniqueDrug = pd.DataFrame(data={\n",
    "        'DrugId': uniqueDrug,\n",
    "        'mappedId': pd.RangeIndex(len(uniqueDrug)),\n",
    "    })\n",
    "    uniqueTraget = dfTarget['#'].unique()\n",
    "    uniqueTraget = pd.DataFrame(data={\n",
    "        'TargetId': uniqueTraget,\n",
    "        'mappedId': pd.RangeIndex(len(uniqueTraget)),\n",
    "    })\n",
    "    # creating edge_index_drug_to_drug\n",
    "    file_path = './NE Dataset/train_ddi.csv'\n",
    "    dfDDI = pd.read_csv(file_path)\n",
    "    source_drug_id = pd.merge(dfDDI['Drug'], uniqueDrug,\n",
    "                             left_on='Drug', right_on='DrugId', how='left')\n",
    "    source_drug_id = torch.from_numpy(source_drug_id['mappedId'].values)\n",
    "    destination_drug_id = pd.merge(dfDDI['Target'], uniqueDrug,\n",
    "                                  left_on='Target', right_on='DrugId', how='left')\n",
    "    destination_drug_id = torch.from_numpy(destination_drug_id['mappedId'].values)\n",
    "    edge_index_drug_to_drug = torch.stack([source_drug_id, destination_drug_id], dim=0)\n",
    "    # creating edge_index_target_to_target\n",
    "    file_path = './NE Dataset/train_ppi.csv'\n",
    "    dfPPI = pd.read_csv(file_path)\n",
    "    source_target_id = pd.merge(dfPPI['Drug'], uniqueTraget,\n",
    "                               left_on='Drug', right_on='TargetId', how='left')\n",
    "    source_target_id = torch.from_numpy(source_target_id['mappedId'].values)\n",
    "    destination_target_id = pd.merge(dfPPI['Target'], uniqueTraget,\n",
    "                                    left_on='Target', right_on='TargetId', how='left')\n",
    "    destination_target_id = torch.from_numpy(destination_target_id['mappedId'].values)\n",
    "    edge_index_target_to_target = torch.stack([source_target_id, destination_target_id], dim=0)\n",
    "    # creating edge_index_pos_drug_to_target, edge_index_neg_drug_to_target, pos_edge_label, neg_edge_label\n",
    "    file_path = './NE Dataset/train_dti.csv'\n",
    "    dfDTI = pd.read_csv(file_path)\n",
    "    dfDTIpos = dfDTI[dfDTI['Label'] == 1]\n",
    "    dfDTIneg = dfDTI[dfDTI['Label'] == 0]\n",
    "    pos_interact_drug_id = pd.merge(dfDTIpos['Drug'], uniqueDrug,\n",
    "                                   left_on='Drug', right_on='DrugId', how='left')\n",
    "    pos_interact_drug_id = torch.from_numpy(pos_interact_drug_id['mappedId'].values)\n",
    "    pos_interact_target_id = pd.merge(dfDTIpos['Target'], uniqueTraget,\n",
    "                                      left_on='Target', right_on='TargetId', how='left')\n",
    "    pos_interact_target_id = torch.from_numpy(pos_interact_target_id['mappedId'].values)\n",
    "    edge_index_pos_drug_to_target = torch.stack([pos_interact_drug_id, pos_interact_target_id], dim=0) # edge_index_pos_drug_to_target\n",
    "    neg_interact_drug_id = pd.merge(dfDTIneg['Drug'], uniqueDrug,\n",
    "                                   left_on='Drug', right_on='DrugId', how='left')\n",
    "    neg_interact_drug_id = torch.from_numpy(neg_interact_drug_id['mappedId'].values)\n",
    "    neg_interact_target_id = pd.merge(dfDTIneg['Target'], uniqueTraget,\n",
    "                                     left_on='Target', right_on='TargetId', how='left')\n",
    "    neg_interact_target_id = torch.from_numpy(neg_interact_target_id['mappedId'].values)\n",
    "    edge_index_neg_drug_to_target = torch.stack([neg_interact_drug_id, neg_interact_target_id], dim=0) # edge_index_neg_drug_to_target\n",
    "    pos_edge_label = dfDTIpos['Label']\n",
    "    pos_edge_label = torch.tensor(pos_edge_label.values) # pos_edge_label\n",
    "    neg_edge_label = dfDTIneg['Label']\n",
    "    neg_edge_label = torch.tensor(neg_edge_label.values) # neg_edge_label\n",
    "    # creating edge_index_supervision and edge_label_supervision\n",
    "    edge_index_meg_pass, pos_edge_index_supervision, pos_edge_label_supervision = split_edges(edge_index_pos_drug_to_target, pos_edge_label)\n",
    "    dropped_edge_index, neg_edge_index_supervision, neg_edge_label_supervision = split_edges(edge_index_neg_drug_to_target, neg_edge_label)\n",
    "    edge_index_supervision = torch.cat((pos_edge_index_supervision, neg_edge_index_supervision), dim=1)\n",
    "    edge_label_supervision = torch.cat((pos_edge_label_supervision, neg_edge_label_supervision), dim=0)\n",
    "    random_permutation = torch.randperm(1424)\n",
    "    edge_index_supervision = edge_index_supervision[:, random_permutation]\n",
    "    edge_label_supervision = edge_label_supervision[random_permutation]\n",
    "    # creating trainData\n",
    "    # adding node and features of drug\n",
    "    trainData = HeteroData()\n",
    "    trainData['drug'].node_id = torch.arange(drug_feat.size(0))\n",
    "    trainData['drug'].x = drug_feat\n",
    "    # adding node and features of target\n",
    "    trainData['target'].node_id = torch.arange(target_feat.size(0))\n",
    "    trainData['target'].x = target_feat\n",
    "    # adding all the edges which will be used for message passing to the heterogeneous data\n",
    "    trainData[\"drug\", \"interact\", \"target\"].edge_index = edge_index_meg_pass\n",
    "    trainData[\"drug\", \"similar\", \"drug\"].edge_index = edge_index_drug_to_drug\n",
    "    trainData[\"target\", \"similar\", \"target\"].edge_index = edge_index_target_to_target\n",
    "    trainData = T.ToUndirected()(trainData) # making all the message passing edges undirected\n",
    "    # adding edge index and edge label for supervision to the data\n",
    "    trainData[\"drug\", \"interact\", \"target\"].edge_label = edge_label_supervision\n",
    "    trainData[\"drug\", \"interact\", \"target\"].edge_label_index = edge_index_supervision\n",
    "    return trainData"
   ]
  },
  {
   "cell_type": "code",
   "execution_count": 8,
   "id": "8cd418a2",
   "metadata": {},
   "outputs": [
    {
     "name": "stderr",
     "output_type": "stream",
     "text": [
      "/tmp/ipykernel_173621/1833806588.py:4: DtypeWarning: Columns (663,786,787,832,835,869,905,906,951,954,988,1146,1411) have mixed types. Specify dtype option on import or set low_memory=False.\n",
      "  dfDrug = pd.read_csv(file_path)\n"
     ]
    }
   ],
   "source": [
    "trainData = create_trainData()"
   ]
  },
  {
   "cell_type": "code",
   "execution_count": 9,
   "id": "eaec8549",
   "metadata": {},
   "outputs": [
    {
     "name": "stdout",
     "output_type": "stream",
     "text": [
      "HeteroData(\n",
      "  drug={\n",
      "    node_id=[1482],\n",
      "    x=[1482, 1444],\n",
      "  },\n",
      "  target={\n",
      "    node_id=[1408],\n",
      "    x=[1408, 4159],\n",
      "  },\n",
      "  (drug, interact, target)={\n",
      "    edge_index=[2, 1659],\n",
      "    edge_label=[1424],\n",
      "    edge_label_index=[2, 1424],\n",
      "  },\n",
      "  (drug, similar, drug)={ edge_index=[2, 1246640] },\n",
      "  (target, similar, target)={ edge_index=[2, 1043321] },\n",
      "  (target, rev_interact, drug)={ edge_index=[2, 1659] }\n",
      ")\n"
     ]
    }
   ],
   "source": [
    "print(trainData)"
   ]
  },
  {
   "cell_type": "code",
   "execution_count": 49,
   "id": "579044cd",
   "metadata": {},
   "outputs": [],
   "source": [
    "# I will create a function to build valData"
   ]
  },
  {
   "cell_type": "code",
   "execution_count": 10,
   "id": "914bcd70",
   "metadata": {},
   "outputs": [],
   "source": [
    "def create_valData():\n",
    "    # creating drug_feat\n",
    "    file_path = './NE Dataset/drug_attr.csv'\n",
    "    dfDrug = pd.read_csv(file_path)\n",
    "    dfDrugFeat = dfDrug.drop(dfDrug.columns[:2], axis=1)\n",
    "    dfDrugFeat.replace('#NAME?', np.nan, inplace=True) # replacing the missing values with 0\n",
    "    dfDrugFeat.fillna(0, inplace=True)\n",
    "    dfDrugFeat = dfDrugFeat.applymap(to_float)\n",
    "    dfDrugFeat.replace([np.inf], 0, inplace=True) # replacing the inf value with zero\n",
    "    scaler = MinMaxScaler(feature_range=(-1, 1)) # NORMALIZE HERE\n",
    "    dfDrugFeat = scaler.fit_transform(dfDrugFeat)\n",
    "    drug_feat = torch.from_numpy(dfDrugFeat).to(torch.float)\n",
    "    # creating target_feat\n",
    "    file_path = './NE Dataset/protein_attr.csv'\n",
    "    dfTarget = pd.read_csv(file_path)\n",
    "    dfTargetFeat = dfTarget.drop(dfTarget.columns[:2], axis=1)\n",
    "    target_feat = torch.from_numpy(dfTargetFeat.values).to(torch.float)\n",
    "    # unique drug and unique target mapping\n",
    "    uniqueDrug = dfDrug['1'].unique()\n",
    "    uniqueDrug = pd.DataFrame(data={\n",
    "        'DrugId': uniqueDrug,\n",
    "        'mappedId': pd.RangeIndex(len(uniqueDrug)),\n",
    "    })\n",
    "    uniqueTraget = dfTarget['#'].unique()\n",
    "    uniqueTraget = pd.DataFrame(data={\n",
    "        'TargetId': uniqueTraget,\n",
    "        'mappedId': pd.RangeIndex(len(uniqueTraget)),\n",
    "    })\n",
    "    # creating edge_index_drug_to_drug\n",
    "    file_path = './NE Dataset/train_ddi.csv'\n",
    "    dfDDI = pd.read_csv(file_path)\n",
    "    source_drug_id = pd.merge(dfDDI['Drug'], uniqueDrug,\n",
    "                             left_on='Drug', right_on='DrugId', how='left')\n",
    "    source_drug_id = torch.from_numpy(source_drug_id['mappedId'].values)\n",
    "    destination_drug_id = pd.merge(dfDDI['Target'], uniqueDrug,\n",
    "                                  left_on='Target', right_on='DrugId', how='left')\n",
    "    destination_drug_id = torch.from_numpy(destination_drug_id['mappedId'].values)\n",
    "    edge_index_drug_to_drug = torch.stack([source_drug_id, destination_drug_id], dim=0)\n",
    "    # creating edge_index_target_to_target\n",
    "    file_path = './NE Dataset/train_ppi.csv'\n",
    "    dfPPI = pd.read_csv(file_path)\n",
    "    source_target_id = pd.merge(dfPPI['Drug'], uniqueTraget,\n",
    "                               left_on='Drug', right_on='TargetId', how='left')\n",
    "    source_target_id = torch.from_numpy(source_target_id['mappedId'].values)\n",
    "    destination_target_id = pd.merge(dfPPI['Target'], uniqueTraget,\n",
    "                                    left_on='Target', right_on='TargetId', how='left')\n",
    "    destination_target_id = torch.from_numpy(destination_target_id['mappedId'].values)\n",
    "    edge_index_target_to_target = torch.stack([source_target_id, destination_target_id], dim=0)\n",
    "    # creating edge_index_pos_drug_to_target [these edges will be used for message passing]\n",
    "    file_path = './NE Dataset/train_dti.csv'\n",
    "    dfDTI = pd.read_csv(file_path)\n",
    "    dfDTIpos = dfDTI[dfDTI['Label'] == 1]\n",
    "    pos_interact_drug_id = pd.merge(dfDTIpos['Drug'], uniqueDrug,\n",
    "                                   left_on='Drug', right_on='DrugId', how='left')\n",
    "    pos_interact_drug_id = torch.from_numpy(pos_interact_drug_id['mappedId'].values)\n",
    "    pos_interact_target_id = pd.merge(dfDTIpos['Target'], uniqueTraget,\n",
    "                                      left_on='Target', right_on='TargetId', how='left')\n",
    "    pos_interact_target_id = torch.from_numpy(pos_interact_target_id['mappedId'].values)\n",
    "    edge_index_pos_drug_to_target = torch.stack([pos_interact_drug_id, pos_interact_target_id], dim=0)\n",
    "    # creating supervision edge and label\n",
    "    file_path = './NE Dataset/val_dti.csv'\n",
    "    dfvalDTI = pd.read_csv(file_path)\n",
    "    edge_index_supervision_drug = pd.merge(dfvalDTI['Drug'], uniqueDrug,\n",
    "                                          left_on='Drug', right_on='DrugId', how='left')\n",
    "    edge_index_supervision_drug = torch.from_numpy(edge_index_supervision_drug['mappedId'].values)\n",
    "    edge_index_supervision_target = pd.merge(dfvalDTI['Target'], uniqueTraget,\n",
    "                                            left_on='Target', right_on='TargetId', how='left')\n",
    "    edge_index_supervision_target = torch.from_numpy(edge_index_supervision_target['mappedId'].values)\n",
    "    edge_index_supervision = torch.stack([edge_index_supervision_drug, edge_index_supervision_target], dim=0)\n",
    "    edge_label_supervision = dfvalDTI['Label']\n",
    "    edge_label_supervision = torch.tensor(edge_label_supervision.values)\n",
    "    random_permutationVal = torch.randperm(948)\n",
    "    edge_index_supervision = edge_index_supervision[:, random_permutationVal]\n",
    "    edge_label_supervision = edge_label_supervision[random_permutationVal]\n",
    "    # creating the heterogeneous graph valData\n",
    "    valData = HeteroData()\n",
    "    # adding node and features of drug\n",
    "    valData['drug'].node_id = torch.arange(drug_feat.size(0))\n",
    "    valData['drug'].x = drug_feat\n",
    "    # adding node and features of target\n",
    "    valData['target'].node_id = torch.arange(target_feat.size(0))\n",
    "    valData['target'].x = target_feat\n",
    "    # adding all the edges which will be used for message passing to the heterogeneous data\n",
    "    valData[\"drug\", \"interact\", \"target\"].edge_index = edge_index_pos_drug_to_target\n",
    "    valData[\"drug\", \"similar\", \"drug\"].edge_index = edge_index_drug_to_drug\n",
    "    valData[\"target\", \"similar\", \"target\"].edge_index = edge_index_target_to_target\n",
    "    # making all the edges undirected\n",
    "    valData = T.ToUndirected()(valData)\n",
    "    # adding edge index and edge label for supervision to the data\n",
    "    valData[\"drug\", \"interact\", \"target\"].edge_label = edge_label_supervision\n",
    "    valData[\"drug\", \"interact\", \"target\"].edge_label_index = edge_index_supervision\n",
    "    return valData"
   ]
  },
  {
   "cell_type": "code",
   "execution_count": 11,
   "id": "6532089a",
   "metadata": {},
   "outputs": [
    {
     "name": "stderr",
     "output_type": "stream",
     "text": [
      "/tmp/ipykernel_173621/1106223255.py:4: DtypeWarning: Columns (663,786,787,832,835,869,905,906,951,954,988,1146,1411) have mixed types. Specify dtype option on import or set low_memory=False.\n",
      "  dfDrug = pd.read_csv(file_path)\n"
     ]
    }
   ],
   "source": [
    "valData = create_valData()"
   ]
  },
  {
   "cell_type": "code",
   "execution_count": 12,
   "id": "969e00a8",
   "metadata": {},
   "outputs": [
    {
     "name": "stdout",
     "output_type": "stream",
     "text": [
      "HeteroData(\n",
      "  drug={\n",
      "    node_id=[1482],\n",
      "    x=[1482, 1444],\n",
      "  },\n",
      "  target={\n",
      "    node_id=[1408],\n",
      "    x=[1408, 4159],\n",
      "  },\n",
      "  (drug, interact, target)={\n",
      "    edge_index=[2, 2371],\n",
      "    edge_label=[948],\n",
      "    edge_label_index=[2, 948],\n",
      "  },\n",
      "  (drug, similar, drug)={ edge_index=[2, 1246640] },\n",
      "  (target, similar, target)={ edge_index=[2, 1043321] },\n",
      "  (target, rev_interact, drug)={ edge_index=[2, 2371] }\n",
      ")\n"
     ]
    }
   ],
   "source": [
    "print(valData)"
   ]
  },
  {
   "cell_type": "code",
   "execution_count": 61,
   "id": "77beede0",
   "metadata": {},
   "outputs": [],
   "source": [
    "# I will create a function to create testData"
   ]
  },
  {
   "cell_type": "code",
   "execution_count": 13,
   "id": "7442061f",
   "metadata": {},
   "outputs": [],
   "source": [
    "def create_testData():\n",
    "    # creating drug_feat\n",
    "    file_path = './NE Dataset/drug_attr.csv'\n",
    "    dfDrug = pd.read_csv(file_path)\n",
    "    dfDrugFeat = dfDrug.drop(dfDrug.columns[:2], axis=1)\n",
    "    dfDrugFeat.replace('#NAME?', np.nan, inplace=True) # replacing the missing values with 0\n",
    "    dfDrugFeat.fillna(0, inplace=True)\n",
    "    dfDrugFeat = dfDrugFeat.applymap(to_float)\n",
    "    dfDrugFeat.replace([np.inf], 0, inplace=True) # replacing the inf value with zero\n",
    "    scaler = MinMaxScaler(feature_range=(-1, 1)) # NORMALIZE HERE\n",
    "    dfDrugFeat = scaler.fit_transform(dfDrugFeat)\n",
    "    drug_feat = torch.from_numpy(dfDrugFeat).to(torch.float)\n",
    "    # creating target_feat\n",
    "    file_path = './NE Dataset/protein_attr.csv'\n",
    "    dfTarget = pd.read_csv(file_path)\n",
    "    dfTargetFeat = dfTarget.drop(dfTarget.columns[:2], axis=1)\n",
    "    target_feat = torch.from_numpy(dfTargetFeat.values).to(torch.float)\n",
    "    # unique drug and unique target mapping\n",
    "    uniqueDrug = dfDrug['1'].unique()\n",
    "    uniqueDrug = pd.DataFrame(data={\n",
    "        'DrugId': uniqueDrug,\n",
    "        'mappedId': pd.RangeIndex(len(uniqueDrug)),\n",
    "    })\n",
    "    uniqueTraget = dfTarget['#'].unique()\n",
    "    uniqueTraget = pd.DataFrame(data={\n",
    "        'TargetId': uniqueTraget,\n",
    "        'mappedId': pd.RangeIndex(len(uniqueTraget)),\n",
    "    })\n",
    "    # creating edge_index_drug_to_drug\n",
    "    file_path = './NE Dataset/train_ddi.csv'\n",
    "    dfDDI = pd.read_csv(file_path)\n",
    "    source_drug_id = pd.merge(dfDDI['Drug'], uniqueDrug,\n",
    "                             left_on='Drug', right_on='DrugId', how='left')\n",
    "    source_drug_id = torch.from_numpy(source_drug_id['mappedId'].values)\n",
    "    destination_drug_id = pd.merge(dfDDI['Target'], uniqueDrug,\n",
    "                                  left_on='Target', right_on='DrugId', how='left')\n",
    "    destination_drug_id = torch.from_numpy(destination_drug_id['mappedId'].values)\n",
    "    edge_index_drug_to_drug = torch.stack([source_drug_id, destination_drug_id], dim=0)\n",
    "    # creating edge_index_target_to_target\n",
    "    file_path = './NE Dataset/train_ppi.csv'\n",
    "    dfPPI = pd.read_csv(file_path)\n",
    "    source_target_id = pd.merge(dfPPI['Drug'], uniqueTraget,\n",
    "                               left_on='Drug', right_on='TargetId', how='left')\n",
    "    source_target_id = torch.from_numpy(source_target_id['mappedId'].values)\n",
    "    destination_target_id = pd.merge(dfPPI['Target'], uniqueTraget,\n",
    "                                    left_on='Target', right_on='TargetId', how='left')\n",
    "    destination_target_id = torch.from_numpy(destination_target_id['mappedId'].values)\n",
    "    edge_index_target_to_target = torch.stack([source_target_id, destination_target_id], dim=0)\n",
    "    # create edge_index_pos_drug_to_target_train\n",
    "    file_path = './NE Dataset/train_dti.csv'\n",
    "    dfDTI = pd.read_csv(file_path)\n",
    "    dfDTIpos = dfDTI[dfDTI['Label'] == 1]\n",
    "    pos_interact_drug_id_train = pd.merge(dfDTIpos['Drug'], uniqueDrug,\n",
    "                                          left_on='Drug', right_on='DrugId', how='left')\n",
    "    pos_interact_drug_id_train = torch.from_numpy(pos_interact_drug_id_train['mappedId'].values)\n",
    "    pos_interact_target_id_train = pd.merge(dfDTIpos['Target'], uniqueTraget,\n",
    "                                            left_on='Target', right_on='TargetId', how='left')\n",
    "    pos_interact_target_id_train = torch.from_numpy(pos_interact_target_id_train['mappedId'].values)\n",
    "    edge_index_pos_drug_to_target_train = torch.stack([pos_interact_drug_id_train, pos_interact_target_id_train], dim=0)\n",
    "    # create edge_index_pos_drug_to_target_val\n",
    "    file_path = './NE Dataset/val_dti.csv'\n",
    "    dfvalDTI = pd.read_csv(file_path)\n",
    "    dfvalDTIpos = dfvalDTI[dfvalDTI['Label'] == 1]\n",
    "    pos_interact_drug_id_val = pd.merge(dfvalDTIpos['Drug'], uniqueDrug,\n",
    "                                       left_on='Drug', right_on='DrugId', how='left')\n",
    "    pos_interact_drug_id_val = torch.from_numpy(pos_interact_drug_id_val['mappedId'].values)\n",
    "    pos_interact_target_id_val = pd.merge(dfvalDTIpos['Target'], uniqueTraget,\n",
    "                                       left_on='Target', right_on='TargetId', how='left')\n",
    "    pos_interact_target_id_val = torch.from_numpy(pos_interact_target_id_val['mappedId'].values)\n",
    "    edge_index_pos_drug_to_target_val = torch.stack([pos_interact_drug_id_val, pos_interact_target_id_val], dim=0)\n",
    "    # create edge_index_pos_drug_to_target\n",
    "    edge_index_pos_drug_to_target = torch.cat((edge_index_pos_drug_to_target_train, edge_index_pos_drug_to_target_val), dim=1)\n",
    "    # creating supervision edge and label\n",
    "    file_path = './NE Dataset/test_dti.csv'\n",
    "    dftestDTI = pd.read_csv(file_path)\n",
    "    edge_index_supervision_drug = pd.merge(dftestDTI['Drug'], uniqueDrug,\n",
    "                                           left_on='Drug', right_on='DrugId', how='left')\n",
    "    edge_index_supervision_drug = torch.from_numpy(edge_index_supervision_drug['mappedId'].values)\n",
    "    edge_index_supervision_target = pd.merge(dftestDTI['Target'], uniqueTraget,\n",
    "                                        left_on='Target', right_on='TargetId', how='left')\n",
    "    edge_index_supervision_target = torch.from_numpy(edge_index_supervision_target['mappedId'].values)\n",
    "    edge_index_supervision = torch.stack([edge_index_supervision_drug, edge_index_supervision_target], dim=0)\n",
    "    edge_label_supervision = dftestDTI['Label']\n",
    "    edge_label_supervision = torch.tensor(edge_label_supervision.values)\n",
    "    random_permutationTest = torch.randperm(2214)\n",
    "    edge_index_supervision = edge_index_supervision[:, random_permutationTest]\n",
    "    edge_label_supervision = edge_label_supervision[random_permutationTest]\n",
    "    # create the heterogeneous graph testData\n",
    "    testData = HeteroData()\n",
    "    # adding node and features of drug\n",
    "    testData['drug'].node_id = torch.arange(drug_feat.size(0))\n",
    "    testData['drug'].x = drug_feat\n",
    "    # adding node and features of target\n",
    "    testData['target'].node_id = torch.arange(target_feat.size(0))\n",
    "    testData['target'].x = target_feat\n",
    "    # adding all the edges which will be used for message passing to the heterogeneous data\n",
    "    testData[\"drug\", \"interact\", \"target\"].edge_index = edge_index_pos_drug_to_target\n",
    "    testData[\"drug\", \"similar\", \"drug\"].edge_index = edge_index_drug_to_drug\n",
    "    testData[\"target\", \"similar\", \"target\"].edge_index = edge_index_target_to_target\n",
    "    # making all the edges undirected\n",
    "    testData = T.ToUndirected()(testData)\n",
    "    # adding edge index and edge label for supervision to the data\n",
    "    testData[\"drug\", \"interact\", \"target\"].edge_label = edge_label_supervision\n",
    "    testData[\"drug\", \"interact\", \"target\"].edge_label_index = edge_index_supervision\n",
    "    return testData"
   ]
  },
  {
   "cell_type": "code",
   "execution_count": 14,
   "id": "289bdecc",
   "metadata": {},
   "outputs": [
    {
     "name": "stderr",
     "output_type": "stream",
     "text": [
      "/tmp/ipykernel_173621/1290533553.py:4: DtypeWarning: Columns (663,786,787,832,835,869,905,906,951,954,988,1146,1411) have mixed types. Specify dtype option on import or set low_memory=False.\n",
      "  dfDrug = pd.read_csv(file_path)\n"
     ]
    }
   ],
   "source": [
    "testData = create_testData()"
   ]
  },
  {
   "cell_type": "code",
   "execution_count": 15,
   "id": "66c5b1c1",
   "metadata": {},
   "outputs": [
    {
     "name": "stdout",
     "output_type": "stream",
     "text": [
      "HeteroData(\n",
      "  drug={\n",
      "    node_id=[1482],\n",
      "    x=[1482, 1444],\n",
      "  },\n",
      "  target={\n",
      "    node_id=[1408],\n",
      "    x=[1408, 4159],\n",
      "  },\n",
      "  (drug, interact, target)={\n",
      "    edge_index=[2, 2845],\n",
      "    edge_label=[2214],\n",
      "    edge_label_index=[2, 2214],\n",
      "  },\n",
      "  (drug, similar, drug)={ edge_index=[2, 1246640] },\n",
      "  (target, similar, target)={ edge_index=[2, 1043321] },\n",
      "  (target, rev_interact, drug)={ edge_index=[2, 2845] }\n",
      ")\n"
     ]
    }
   ],
   "source": [
    "print(testData)"
   ]
  },
  {
   "cell_type": "code",
   "execution_count": 88,
   "id": "f3dbccc2",
   "metadata": {},
   "outputs": [
    {
     "data": {
      "text/plain": [
       "2845"
      ]
     },
     "execution_count": 88,
     "metadata": {},
     "output_type": "execute_result"
    }
   ],
   "source": [
    "2371 + 474"
   ]
  },
  {
   "cell_type": "code",
   "execution_count": 4,
   "id": "f8863175",
   "metadata": {},
   "outputs": [],
   "source": [
    "directory_path = './NE Dataset'"
   ]
  },
  {
   "cell_type": "code",
   "execution_count": 5,
   "id": "bd16fe7d",
   "metadata": {},
   "outputs": [],
   "source": [
    "pattern = '*.csv'"
   ]
  },
  {
   "cell_type": "code",
   "execution_count": 6,
   "id": "b7cb4ff0",
   "metadata": {},
   "outputs": [],
   "source": [
    "files = glob.glob(os.path.join(directory_path, pattern))"
   ]
  },
  {
   "cell_type": "code",
   "execution_count": 7,
   "id": "234bc0bd",
   "metadata": {},
   "outputs": [
    {
     "name": "stdout",
     "output_type": "stream",
     "text": [
      "val_dti.csv\n",
      "drug_attr.csv\n",
      "train_ddi.csv\n",
      "test_dti.csv\n",
      "train_ppi.csv\n",
      "train_dti.csv\n",
      "protein_attr.csv\n"
     ]
    }
   ],
   "source": [
    "for file in files:\n",
    "    print(os.path.basename(file))"
   ]
  },
  {
   "cell_type": "code",
   "execution_count": 6,
   "id": "929a18c8",
   "metadata": {},
   "outputs": [],
   "source": [
    "# 1st I will load the drug attribute dataset\n",
    "# then I will create a two dimensional tensor of drug features. that tensor size will be [1482, 1444]\n",
    "# I will map to drugs to qnique values (0 ....... num_of_drugs - 1)"
   ]
  },
  {
   "cell_type": "code",
   "execution_count": 8,
   "id": "b315b262",
   "metadata": {},
   "outputs": [],
   "source": [
    "file_path = './NE Dataset/drug_attr.csv'"
   ]
  },
  {
   "cell_type": "code",
   "execution_count": 9,
   "id": "50244086",
   "metadata": {},
   "outputs": [
    {
     "name": "stderr",
     "output_type": "stream",
     "text": [
      "/tmp/ipykernel_109814/782197566.py:1: DtypeWarning: Columns (663,786,787,832,835,869,905,906,951,954,988,1146,1411) have mixed types. Specify dtype option on import or set low_memory=False.\n",
      "  dfDrug = pd.read_csv(file_path)\n"
     ]
    }
   ],
   "source": [
    "dfDrug = pd.read_csv(file_path)"
   ]
  },
  {
   "cell_type": "code",
   "execution_count": 10,
   "id": "0359c4f7",
   "metadata": {},
   "outputs": [
    {
     "data": {
      "text/html": [
       "<div>\n",
       "<style scoped>\n",
       "    .dataframe tbody tr th:only-of-type {\n",
       "        vertical-align: middle;\n",
       "    }\n",
       "\n",
       "    .dataframe tbody tr th {\n",
       "        vertical-align: top;\n",
       "    }\n",
       "\n",
       "    .dataframe thead th {\n",
       "        text-align: right;\n",
       "    }\n",
       "</style>\n",
       "<table border=\"1\" class=\"dataframe\">\n",
       "  <thead>\n",
       "    <tr style=\"text-align: right;\">\n",
       "      <th></th>\n",
       "      <th>Unnamed: 0</th>\n",
       "      <th>1</th>\n",
       "      <th>2</th>\n",
       "      <th>3</th>\n",
       "      <th>4</th>\n",
       "      <th>5</th>\n",
       "      <th>6</th>\n",
       "      <th>7</th>\n",
       "      <th>8</th>\n",
       "      <th>9</th>\n",
       "      <th>...</th>\n",
       "      <th>1436</th>\n",
       "      <th>1437</th>\n",
       "      <th>1438</th>\n",
       "      <th>1439</th>\n",
       "      <th>1440</th>\n",
       "      <th>1441</th>\n",
       "      <th>1442</th>\n",
       "      <th>1443</th>\n",
       "      <th>1444</th>\n",
       "      <th>1445</th>\n",
       "    </tr>\n",
       "  </thead>\n",
       "  <tbody>\n",
       "    <tr>\n",
       "      <th>0</th>\n",
       "      <td>0</td>\n",
       "      <td>DB01356</td>\n",
       "      <td>0</td>\n",
       "      <td>0.0000</td>\n",
       "      <td>0.000000</td>\n",
       "      <td>0.0000</td>\n",
       "      <td>24.300000</td>\n",
       "      <td>0</td>\n",
       "      <td>0</td>\n",
       "      <td>1</td>\n",
       "      <td>...</td>\n",
       "      <td>7.016005</td>\n",
       "      <td>1.000000</td>\n",
       "      <td>1.000000</td>\n",
       "      <td>1.000000</td>\n",
       "      <td>0.000000</td>\n",
       "      <td>0.0</td>\n",
       "      <td>0.0</td>\n",
       "      <td>0</td>\n",
       "      <td>0.000</td>\n",
       "      <td>0</td>\n",
       "    </tr>\n",
       "    <tr>\n",
       "      <th>1</th>\n",
       "      <td>1</td>\n",
       "      <td>DB06757</td>\n",
       "      <td>0</td>\n",
       "      <td>0.0000</td>\n",
       "      <td>0.000000</td>\n",
       "      <td>0.0000</td>\n",
       "      <td>9.400000</td>\n",
       "      <td>0</td>\n",
       "      <td>0</td>\n",
       "      <td>1</td>\n",
       "      <td>...</td>\n",
       "      <td>54.938045</td>\n",
       "      <td>1.000000</td>\n",
       "      <td>1.000000</td>\n",
       "      <td>1.000000</td>\n",
       "      <td>0.000000</td>\n",
       "      <td>0.0</td>\n",
       "      <td>0.0</td>\n",
       "      <td>0</td>\n",
       "      <td>0.000</td>\n",
       "      <td>0</td>\n",
       "    </tr>\n",
       "    <tr>\n",
       "      <th>2</th>\n",
       "      <td>2</td>\n",
       "      <td>DB01370</td>\n",
       "      <td>0</td>\n",
       "      <td>0.0000</td>\n",
       "      <td>0.000000</td>\n",
       "      <td>0.0000</td>\n",
       "      <td>6.800000</td>\n",
       "      <td>0</td>\n",
       "      <td>0</td>\n",
       "      <td>1</td>\n",
       "      <td>...</td>\n",
       "      <td>26.981539</td>\n",
       "      <td>1.000000</td>\n",
       "      <td>1.000000</td>\n",
       "      <td>1.000000</td>\n",
       "      <td>0.000000</td>\n",
       "      <td>0.0</td>\n",
       "      <td>0.0</td>\n",
       "      <td>0</td>\n",
       "      <td>0.000</td>\n",
       "      <td>0</td>\n",
       "    </tr>\n",
       "    <tr>\n",
       "      <th>3</th>\n",
       "      <td>3</td>\n",
       "      <td>DB00435</td>\n",
       "      <td>0</td>\n",
       "      <td>-0.1269</td>\n",
       "      <td>0.016104</td>\n",
       "      <td>2.2429</td>\n",
       "      <td>2.568793</td>\n",
       "      <td>0</td>\n",
       "      <td>0</td>\n",
       "      <td>3</td>\n",
       "      <td>...</td>\n",
       "      <td>10.335271</td>\n",
       "      <td>3.000000</td>\n",
       "      <td>1.500000</td>\n",
       "      <td>4.000000</td>\n",
       "      <td>2.000000</td>\n",
       "      <td>2.0</td>\n",
       "      <td>1.0</td>\n",
       "      <td>0</td>\n",
       "      <td>0.028</td>\n",
       "      <td>2</td>\n",
       "    </tr>\n",
       "    <tr>\n",
       "      <th>4</th>\n",
       "      <td>4</td>\n",
       "      <td>DB03166</td>\n",
       "      <td>1</td>\n",
       "      <td>-0.2299</td>\n",
       "      <td>0.052854</td>\n",
       "      <td>12.6437</td>\n",
       "      <td>7.791172</td>\n",
       "      <td>0</td>\n",
       "      <td>0</td>\n",
       "      <td>8</td>\n",
       "      <td>...</td>\n",
       "      <td>7.502641</td>\n",
       "      <td>6.732051</td>\n",
       "      <td>1.683013</td>\n",
       "      <td>4.488034</td>\n",
       "      <td>4.488034</td>\n",
       "      <td>0.0</td>\n",
       "      <td>9.0</td>\n",
       "      <td>0</td>\n",
       "      <td>-0.080</td>\n",
       "      <td>12</td>\n",
       "    </tr>\n",
       "    <tr>\n",
       "      <th>...</th>\n",
       "      <td>...</td>\n",
       "      <td>...</td>\n",
       "      <td>...</td>\n",
       "      <td>...</td>\n",
       "      <td>...</td>\n",
       "      <td>...</td>\n",
       "      <td>...</td>\n",
       "      <td>...</td>\n",
       "      <td>...</td>\n",
       "      <td>...</td>\n",
       "      <td>...</td>\n",
       "      <td>...</td>\n",
       "      <td>...</td>\n",
       "      <td>...</td>\n",
       "      <td>...</td>\n",
       "      <td>...</td>\n",
       "      <td>...</td>\n",
       "      <td>...</td>\n",
       "      <td>...</td>\n",
       "      <td>...</td>\n",
       "      <td>...</td>\n",
       "    </tr>\n",
       "    <tr>\n",
       "      <th>1477</th>\n",
       "      <td>1477</td>\n",
       "      <td>DB00104</td>\n",
       "      <td>0</td>\n",
       "      <td>0.0000</td>\n",
       "      <td>0.000000</td>\n",
       "      <td>0.0000</td>\n",
       "      <td>0.000000</td>\n",
       "      <td>0</td>\n",
       "      <td>0</td>\n",
       "      <td>0</td>\n",
       "      <td>...</td>\n",
       "      <td>0.000000</td>\n",
       "      <td>0.000000</td>\n",
       "      <td>0.000000</td>\n",
       "      <td>0.000000</td>\n",
       "      <td>0.000000</td>\n",
       "      <td>0.0</td>\n",
       "      <td>0.0</td>\n",
       "      <td>0</td>\n",
       "      <td>0.000</td>\n",
       "      <td>0</td>\n",
       "    </tr>\n",
       "    <tr>\n",
       "      <th>1478</th>\n",
       "      <td>1478</td>\n",
       "      <td>DB00569</td>\n",
       "      <td>0</td>\n",
       "      <td>0.0000</td>\n",
       "      <td>0.000000</td>\n",
       "      <td>0.0000</td>\n",
       "      <td>0.000000</td>\n",
       "      <td>0</td>\n",
       "      <td>0</td>\n",
       "      <td>0</td>\n",
       "      <td>...</td>\n",
       "      <td>0.000000</td>\n",
       "      <td>0.000000</td>\n",
       "      <td>0.000000</td>\n",
       "      <td>0.000000</td>\n",
       "      <td>0.000000</td>\n",
       "      <td>0.0</td>\n",
       "      <td>0.0</td>\n",
       "      <td>0</td>\n",
       "      <td>0.000</td>\n",
       "      <td>0</td>\n",
       "    </tr>\n",
       "    <tr>\n",
       "      <th>1479</th>\n",
       "      <td>1479</td>\n",
       "      <td>DB00093</td>\n",
       "      <td>0</td>\n",
       "      <td>0.0000</td>\n",
       "      <td>0.000000</td>\n",
       "      <td>0.0000</td>\n",
       "      <td>0.000000</td>\n",
       "      <td>0</td>\n",
       "      <td>0</td>\n",
       "      <td>0</td>\n",
       "      <td>...</td>\n",
       "      <td>0.000000</td>\n",
       "      <td>0.000000</td>\n",
       "      <td>0.000000</td>\n",
       "      <td>0.000000</td>\n",
       "      <td>0.000000</td>\n",
       "      <td>0.0</td>\n",
       "      <td>0.0</td>\n",
       "      <td>0</td>\n",
       "      <td>0.000</td>\n",
       "      <td>0</td>\n",
       "    </tr>\n",
       "    <tr>\n",
       "      <th>1480</th>\n",
       "      <td>1480</td>\n",
       "      <td>DB09067</td>\n",
       "      <td>0</td>\n",
       "      <td>0.0000</td>\n",
       "      <td>0.000000</td>\n",
       "      <td>0.0000</td>\n",
       "      <td>0.000000</td>\n",
       "      <td>0</td>\n",
       "      <td>0</td>\n",
       "      <td>0</td>\n",
       "      <td>...</td>\n",
       "      <td>0.000000</td>\n",
       "      <td>0.000000</td>\n",
       "      <td>0.000000</td>\n",
       "      <td>0.000000</td>\n",
       "      <td>0.000000</td>\n",
       "      <td>0.0</td>\n",
       "      <td>0.0</td>\n",
       "      <td>0</td>\n",
       "      <td>0.000</td>\n",
       "      <td>0</td>\n",
       "    </tr>\n",
       "    <tr>\n",
       "      <th>1481</th>\n",
       "      <td>1481</td>\n",
       "      <td>DB00200</td>\n",
       "      <td>0</td>\n",
       "      <td>0.0000</td>\n",
       "      <td>0.000000</td>\n",
       "      <td>0.0000</td>\n",
       "      <td>0.000000</td>\n",
       "      <td>0</td>\n",
       "      <td>0</td>\n",
       "      <td>0</td>\n",
       "      <td>...</td>\n",
       "      <td>0.000000</td>\n",
       "      <td>0.000000</td>\n",
       "      <td>0.000000</td>\n",
       "      <td>0.000000</td>\n",
       "      <td>0.000000</td>\n",
       "      <td>0.0</td>\n",
       "      <td>0.0</td>\n",
       "      <td>0</td>\n",
       "      <td>0.000</td>\n",
       "      <td>0</td>\n",
       "    </tr>\n",
       "  </tbody>\n",
       "</table>\n",
       "<p>1482 rows × 1446 columns</p>\n",
       "</div>"
      ],
      "text/plain": [
       "      Unnamed: 0        1  2       3         4        5          6  7  8  9  \\\n",
       "0              0  DB01356  0  0.0000  0.000000   0.0000  24.300000  0  0  1   \n",
       "1              1  DB06757  0  0.0000  0.000000   0.0000   9.400000  0  0  1   \n",
       "2              2  DB01370  0  0.0000  0.000000   0.0000   6.800000  0  0  1   \n",
       "3              3  DB00435  0 -0.1269  0.016104   2.2429   2.568793  0  0  3   \n",
       "4              4  DB03166  1 -0.2299  0.052854  12.6437   7.791172  0  0  8   \n",
       "...          ...      ... ..     ...       ...      ...        ... .. .. ..   \n",
       "1477        1477  DB00104  0  0.0000  0.000000   0.0000   0.000000  0  0  0   \n",
       "1478        1478  DB00569  0  0.0000  0.000000   0.0000   0.000000  0  0  0   \n",
       "1479        1479  DB00093  0  0.0000  0.000000   0.0000   0.000000  0  0  0   \n",
       "1480        1480  DB09067  0  0.0000  0.000000   0.0000   0.000000  0  0  0   \n",
       "1481        1481  DB00200  0  0.0000  0.000000   0.0000   0.000000  0  0  0   \n",
       "\n",
       "      ...       1436      1437      1438      1439      1440  1441  1442  \\\n",
       "0     ...   7.016005  1.000000  1.000000  1.000000  0.000000   0.0   0.0   \n",
       "1     ...  54.938045  1.000000  1.000000  1.000000  0.000000   0.0   0.0   \n",
       "2     ...  26.981539  1.000000  1.000000  1.000000  0.000000   0.0   0.0   \n",
       "3     ...  10.335271  3.000000  1.500000  4.000000  2.000000   2.0   1.0   \n",
       "4     ...   7.502641  6.732051  1.683013  4.488034  4.488034   0.0   9.0   \n",
       "...   ...        ...       ...       ...       ...       ...   ...   ...   \n",
       "1477  ...   0.000000  0.000000  0.000000  0.000000  0.000000   0.0   0.0   \n",
       "1478  ...   0.000000  0.000000  0.000000  0.000000  0.000000   0.0   0.0   \n",
       "1479  ...   0.000000  0.000000  0.000000  0.000000  0.000000   0.0   0.0   \n",
       "1480  ...   0.000000  0.000000  0.000000  0.000000  0.000000   0.0   0.0   \n",
       "1481  ...   0.000000  0.000000  0.000000  0.000000  0.000000   0.0   0.0   \n",
       "\n",
       "      1443   1444  1445  \n",
       "0        0  0.000     0  \n",
       "1        0  0.000     0  \n",
       "2        0  0.000     0  \n",
       "3        0  0.028     2  \n",
       "4        0 -0.080    12  \n",
       "...    ...    ...   ...  \n",
       "1477     0  0.000     0  \n",
       "1478     0  0.000     0  \n",
       "1479     0  0.000     0  \n",
       "1480     0  0.000     0  \n",
       "1481     0  0.000     0  \n",
       "\n",
       "[1482 rows x 1446 columns]"
      ]
     },
     "execution_count": 10,
     "metadata": {},
     "output_type": "execute_result"
    }
   ],
   "source": [
    "dfDrug"
   ]
  },
  {
   "cell_type": "code",
   "execution_count": 11,
   "id": "3478c852",
   "metadata": {},
   "outputs": [],
   "source": [
    "dfDrugFeat = dfDrug.drop(dfDrug.columns[:2], axis=1)"
   ]
  },
  {
   "cell_type": "code",
   "execution_count": 12,
   "id": "51055e63",
   "metadata": {},
   "outputs": [
    {
     "data": {
      "text/html": [
       "<div>\n",
       "<style scoped>\n",
       "    .dataframe tbody tr th:only-of-type {\n",
       "        vertical-align: middle;\n",
       "    }\n",
       "\n",
       "    .dataframe tbody tr th {\n",
       "        vertical-align: top;\n",
       "    }\n",
       "\n",
       "    .dataframe thead th {\n",
       "        text-align: right;\n",
       "    }\n",
       "</style>\n",
       "<table border=\"1\" class=\"dataframe\">\n",
       "  <thead>\n",
       "    <tr style=\"text-align: right;\">\n",
       "      <th></th>\n",
       "      <th>2</th>\n",
       "      <th>3</th>\n",
       "      <th>4</th>\n",
       "      <th>5</th>\n",
       "      <th>6</th>\n",
       "      <th>7</th>\n",
       "      <th>8</th>\n",
       "      <th>9</th>\n",
       "      <th>10</th>\n",
       "      <th>11</th>\n",
       "      <th>...</th>\n",
       "      <th>1436</th>\n",
       "      <th>1437</th>\n",
       "      <th>1438</th>\n",
       "      <th>1439</th>\n",
       "      <th>1440</th>\n",
       "      <th>1441</th>\n",
       "      <th>1442</th>\n",
       "      <th>1443</th>\n",
       "      <th>1444</th>\n",
       "      <th>1445</th>\n",
       "    </tr>\n",
       "  </thead>\n",
       "  <tbody>\n",
       "    <tr>\n",
       "      <th>0</th>\n",
       "      <td>0</td>\n",
       "      <td>0.0000</td>\n",
       "      <td>0.000000</td>\n",
       "      <td>0.0000</td>\n",
       "      <td>24.300000</td>\n",
       "      <td>0</td>\n",
       "      <td>0</td>\n",
       "      <td>1</td>\n",
       "      <td>1</td>\n",
       "      <td>0</td>\n",
       "      <td>...</td>\n",
       "      <td>7.016005</td>\n",
       "      <td>1.000000</td>\n",
       "      <td>1.000000</td>\n",
       "      <td>1.000000</td>\n",
       "      <td>0.000000</td>\n",
       "      <td>0.0</td>\n",
       "      <td>0.0</td>\n",
       "      <td>0</td>\n",
       "      <td>0.000</td>\n",
       "      <td>0</td>\n",
       "    </tr>\n",
       "    <tr>\n",
       "      <th>1</th>\n",
       "      <td>0</td>\n",
       "      <td>0.0000</td>\n",
       "      <td>0.000000</td>\n",
       "      <td>0.0000</td>\n",
       "      <td>9.400000</td>\n",
       "      <td>0</td>\n",
       "      <td>0</td>\n",
       "      <td>1</td>\n",
       "      <td>1</td>\n",
       "      <td>0</td>\n",
       "      <td>...</td>\n",
       "      <td>54.938045</td>\n",
       "      <td>1.000000</td>\n",
       "      <td>1.000000</td>\n",
       "      <td>1.000000</td>\n",
       "      <td>0.000000</td>\n",
       "      <td>0.0</td>\n",
       "      <td>0.0</td>\n",
       "      <td>0</td>\n",
       "      <td>0.000</td>\n",
       "      <td>0</td>\n",
       "    </tr>\n",
       "    <tr>\n",
       "      <th>2</th>\n",
       "      <td>0</td>\n",
       "      <td>0.0000</td>\n",
       "      <td>0.000000</td>\n",
       "      <td>0.0000</td>\n",
       "      <td>6.800000</td>\n",
       "      <td>0</td>\n",
       "      <td>0</td>\n",
       "      <td>1</td>\n",
       "      <td>1</td>\n",
       "      <td>0</td>\n",
       "      <td>...</td>\n",
       "      <td>26.981539</td>\n",
       "      <td>1.000000</td>\n",
       "      <td>1.000000</td>\n",
       "      <td>1.000000</td>\n",
       "      <td>0.000000</td>\n",
       "      <td>0.0</td>\n",
       "      <td>0.0</td>\n",
       "      <td>0</td>\n",
       "      <td>0.000</td>\n",
       "      <td>0</td>\n",
       "    </tr>\n",
       "    <tr>\n",
       "      <th>3</th>\n",
       "      <td>0</td>\n",
       "      <td>-0.1269</td>\n",
       "      <td>0.016104</td>\n",
       "      <td>2.2429</td>\n",
       "      <td>2.568793</td>\n",
       "      <td>0</td>\n",
       "      <td>0</td>\n",
       "      <td>3</td>\n",
       "      <td>2</td>\n",
       "      <td>1</td>\n",
       "      <td>...</td>\n",
       "      <td>10.335271</td>\n",
       "      <td>3.000000</td>\n",
       "      <td>1.500000</td>\n",
       "      <td>4.000000</td>\n",
       "      <td>2.000000</td>\n",
       "      <td>2.0</td>\n",
       "      <td>1.0</td>\n",
       "      <td>0</td>\n",
       "      <td>0.028</td>\n",
       "      <td>2</td>\n",
       "    </tr>\n",
       "    <tr>\n",
       "      <th>4</th>\n",
       "      <td>1</td>\n",
       "      <td>-0.2299</td>\n",
       "      <td>0.052854</td>\n",
       "      <td>12.6437</td>\n",
       "      <td>7.791172</td>\n",
       "      <td>0</td>\n",
       "      <td>0</td>\n",
       "      <td>8</td>\n",
       "      <td>4</td>\n",
       "      <td>4</td>\n",
       "      <td>...</td>\n",
       "      <td>7.502641</td>\n",
       "      <td>6.732051</td>\n",
       "      <td>1.683013</td>\n",
       "      <td>4.488034</td>\n",
       "      <td>4.488034</td>\n",
       "      <td>0.0</td>\n",
       "      <td>9.0</td>\n",
       "      <td>0</td>\n",
       "      <td>-0.080</td>\n",
       "      <td>12</td>\n",
       "    </tr>\n",
       "    <tr>\n",
       "      <th>...</th>\n",
       "      <td>...</td>\n",
       "      <td>...</td>\n",
       "      <td>...</td>\n",
       "      <td>...</td>\n",
       "      <td>...</td>\n",
       "      <td>...</td>\n",
       "      <td>...</td>\n",
       "      <td>...</td>\n",
       "      <td>...</td>\n",
       "      <td>...</td>\n",
       "      <td>...</td>\n",
       "      <td>...</td>\n",
       "      <td>...</td>\n",
       "      <td>...</td>\n",
       "      <td>...</td>\n",
       "      <td>...</td>\n",
       "      <td>...</td>\n",
       "      <td>...</td>\n",
       "      <td>...</td>\n",
       "      <td>...</td>\n",
       "      <td>...</td>\n",
       "    </tr>\n",
       "    <tr>\n",
       "      <th>1477</th>\n",
       "      <td>0</td>\n",
       "      <td>0.0000</td>\n",
       "      <td>0.000000</td>\n",
       "      <td>0.0000</td>\n",
       "      <td>0.000000</td>\n",
       "      <td>0</td>\n",
       "      <td>0</td>\n",
       "      <td>0</td>\n",
       "      <td>0</td>\n",
       "      <td>0</td>\n",
       "      <td>...</td>\n",
       "      <td>0.000000</td>\n",
       "      <td>0.000000</td>\n",
       "      <td>0.000000</td>\n",
       "      <td>0.000000</td>\n",
       "      <td>0.000000</td>\n",
       "      <td>0.0</td>\n",
       "      <td>0.0</td>\n",
       "      <td>0</td>\n",
       "      <td>0.000</td>\n",
       "      <td>0</td>\n",
       "    </tr>\n",
       "    <tr>\n",
       "      <th>1478</th>\n",
       "      <td>0</td>\n",
       "      <td>0.0000</td>\n",
       "      <td>0.000000</td>\n",
       "      <td>0.0000</td>\n",
       "      <td>0.000000</td>\n",
       "      <td>0</td>\n",
       "      <td>0</td>\n",
       "      <td>0</td>\n",
       "      <td>0</td>\n",
       "      <td>0</td>\n",
       "      <td>...</td>\n",
       "      <td>0.000000</td>\n",
       "      <td>0.000000</td>\n",
       "      <td>0.000000</td>\n",
       "      <td>0.000000</td>\n",
       "      <td>0.000000</td>\n",
       "      <td>0.0</td>\n",
       "      <td>0.0</td>\n",
       "      <td>0</td>\n",
       "      <td>0.000</td>\n",
       "      <td>0</td>\n",
       "    </tr>\n",
       "    <tr>\n",
       "      <th>1479</th>\n",
       "      <td>0</td>\n",
       "      <td>0.0000</td>\n",
       "      <td>0.000000</td>\n",
       "      <td>0.0000</td>\n",
       "      <td>0.000000</td>\n",
       "      <td>0</td>\n",
       "      <td>0</td>\n",
       "      <td>0</td>\n",
       "      <td>0</td>\n",
       "      <td>0</td>\n",
       "      <td>...</td>\n",
       "      <td>0.000000</td>\n",
       "      <td>0.000000</td>\n",
       "      <td>0.000000</td>\n",
       "      <td>0.000000</td>\n",
       "      <td>0.000000</td>\n",
       "      <td>0.0</td>\n",
       "      <td>0.0</td>\n",
       "      <td>0</td>\n",
       "      <td>0.000</td>\n",
       "      <td>0</td>\n",
       "    </tr>\n",
       "    <tr>\n",
       "      <th>1480</th>\n",
       "      <td>0</td>\n",
       "      <td>0.0000</td>\n",
       "      <td>0.000000</td>\n",
       "      <td>0.0000</td>\n",
       "      <td>0.000000</td>\n",
       "      <td>0</td>\n",
       "      <td>0</td>\n",
       "      <td>0</td>\n",
       "      <td>0</td>\n",
       "      <td>0</td>\n",
       "      <td>...</td>\n",
       "      <td>0.000000</td>\n",
       "      <td>0.000000</td>\n",
       "      <td>0.000000</td>\n",
       "      <td>0.000000</td>\n",
       "      <td>0.000000</td>\n",
       "      <td>0.0</td>\n",
       "      <td>0.0</td>\n",
       "      <td>0</td>\n",
       "      <td>0.000</td>\n",
       "      <td>0</td>\n",
       "    </tr>\n",
       "    <tr>\n",
       "      <th>1481</th>\n",
       "      <td>0</td>\n",
       "      <td>0.0000</td>\n",
       "      <td>0.000000</td>\n",
       "      <td>0.0000</td>\n",
       "      <td>0.000000</td>\n",
       "      <td>0</td>\n",
       "      <td>0</td>\n",
       "      <td>0</td>\n",
       "      <td>0</td>\n",
       "      <td>0</td>\n",
       "      <td>...</td>\n",
       "      <td>0.000000</td>\n",
       "      <td>0.000000</td>\n",
       "      <td>0.000000</td>\n",
       "      <td>0.000000</td>\n",
       "      <td>0.000000</td>\n",
       "      <td>0.0</td>\n",
       "      <td>0.0</td>\n",
       "      <td>0</td>\n",
       "      <td>0.000</td>\n",
       "      <td>0</td>\n",
       "    </tr>\n",
       "  </tbody>\n",
       "</table>\n",
       "<p>1482 rows × 1444 columns</p>\n",
       "</div>"
      ],
      "text/plain": [
       "      2       3         4        5          6  7  8  9  10  11  ...  \\\n",
       "0     0  0.0000  0.000000   0.0000  24.300000  0  0  1   1   0  ...   \n",
       "1     0  0.0000  0.000000   0.0000   9.400000  0  0  1   1   0  ...   \n",
       "2     0  0.0000  0.000000   0.0000   6.800000  0  0  1   1   0  ...   \n",
       "3     0 -0.1269  0.016104   2.2429   2.568793  0  0  3   2   1  ...   \n",
       "4     1 -0.2299  0.052854  12.6437   7.791172  0  0  8   4   4  ...   \n",
       "...  ..     ...       ...      ...        ... .. .. ..  ..  ..  ...   \n",
       "1477  0  0.0000  0.000000   0.0000   0.000000  0  0  0   0   0  ...   \n",
       "1478  0  0.0000  0.000000   0.0000   0.000000  0  0  0   0   0  ...   \n",
       "1479  0  0.0000  0.000000   0.0000   0.000000  0  0  0   0   0  ...   \n",
       "1480  0  0.0000  0.000000   0.0000   0.000000  0  0  0   0   0  ...   \n",
       "1481  0  0.0000  0.000000   0.0000   0.000000  0  0  0   0   0  ...   \n",
       "\n",
       "           1436      1437      1438      1439      1440  1441  1442  1443  \\\n",
       "0      7.016005  1.000000  1.000000  1.000000  0.000000   0.0   0.0     0   \n",
       "1     54.938045  1.000000  1.000000  1.000000  0.000000   0.0   0.0     0   \n",
       "2     26.981539  1.000000  1.000000  1.000000  0.000000   0.0   0.0     0   \n",
       "3     10.335271  3.000000  1.500000  4.000000  2.000000   2.0   1.0     0   \n",
       "4      7.502641  6.732051  1.683013  4.488034  4.488034   0.0   9.0     0   \n",
       "...         ...       ...       ...       ...       ...   ...   ...   ...   \n",
       "1477   0.000000  0.000000  0.000000  0.000000  0.000000   0.0   0.0     0   \n",
       "1478   0.000000  0.000000  0.000000  0.000000  0.000000   0.0   0.0     0   \n",
       "1479   0.000000  0.000000  0.000000  0.000000  0.000000   0.0   0.0     0   \n",
       "1480   0.000000  0.000000  0.000000  0.000000  0.000000   0.0   0.0     0   \n",
       "1481   0.000000  0.000000  0.000000  0.000000  0.000000   0.0   0.0     0   \n",
       "\n",
       "       1444  1445  \n",
       "0     0.000     0  \n",
       "1     0.000     0  \n",
       "2     0.000     0  \n",
       "3     0.028     2  \n",
       "4    -0.080    12  \n",
       "...     ...   ...  \n",
       "1477  0.000     0  \n",
       "1478  0.000     0  \n",
       "1479  0.000     0  \n",
       "1480  0.000     0  \n",
       "1481  0.000     0  \n",
       "\n",
       "[1482 rows x 1444 columns]"
      ]
     },
     "execution_count": 12,
     "metadata": {},
     "output_type": "execute_result"
    }
   ],
   "source": [
    "dfDrugFeat"
   ]
  },
  {
   "cell_type": "code",
   "execution_count": 13,
   "id": "3973474e",
   "metadata": {},
   "outputs": [
    {
     "data": {
      "text/plain": [
       "0            #NAME?\n",
       "1            #NAME?\n",
       "2            #NAME?\n",
       "3       0.069314718\n",
       "4       5.965649139\n",
       "           ...     \n",
       "1477              0\n",
       "1478              0\n",
       "1479              0\n",
       "1480              0\n",
       "1481              0\n",
       "Name: 663, Length: 1482, dtype: object"
      ]
     },
     "execution_count": 13,
     "metadata": {},
     "output_type": "execute_result"
    }
   ],
   "source": [
    "dfDrugFeat['663']"
   ]
  },
  {
   "cell_type": "code",
   "execution_count": 14,
   "id": "f1729237",
   "metadata": {},
   "outputs": [],
   "source": [
    "# replacing the missing values with 0\n",
    "dfDrugFeat.replace('#NAME?', np.nan, inplace=True)\n",
    "dfDrugFeat.fillna(0, inplace=True)"
   ]
  },
  {
   "cell_type": "code",
   "execution_count": 15,
   "id": "6d4ba7e9",
   "metadata": {},
   "outputs": [
    {
     "data": {
      "text/plain": [
       "0                 0\n",
       "1                 0\n",
       "2                 0\n",
       "3       0.069314718\n",
       "4       5.965649139\n",
       "           ...     \n",
       "1477              0\n",
       "1478              0\n",
       "1479              0\n",
       "1480              0\n",
       "1481              0\n",
       "Name: 663, Length: 1482, dtype: object"
      ]
     },
     "execution_count": 15,
     "metadata": {},
     "output_type": "execute_result"
    }
   ],
   "source": [
    "dfDrugFeat['663']"
   ]
  },
  {
   "cell_type": "code",
   "execution_count": 16,
   "id": "50c1af9e",
   "metadata": {},
   "outputs": [],
   "source": [
    "# dfDrugFeat dataframe has int, float and str type data in it\n",
    "# replact all the values to float type\n",
    "def to_float(value):\n",
    "    try:\n",
    "        return float(value)\n",
    "    except ValueError:\n",
    "        return float('nan')\n",
    "   \n",
    "dfDrugFeat = dfDrugFeat.applymap(to_float)"
   ]
  },
  {
   "cell_type": "code",
   "execution_count": 18,
   "id": "aa410f3d",
   "metadata": {},
   "outputs": [],
   "source": [
    "# dfDrugFeat"
   ]
  },
  {
   "cell_type": "code",
   "execution_count": 19,
   "id": "849550c1",
   "metadata": {},
   "outputs": [
    {
     "name": "stdout",
     "output_type": "stream",
     "text": [
      "inf\n"
     ]
    }
   ],
   "source": [
    "max_value = dfDrugFeat.max().max()\n",
    "print(max_value)"
   ]
  },
  {
   "cell_type": "code",
   "execution_count": 20,
   "id": "de67b28b",
   "metadata": {},
   "outputs": [],
   "source": [
    "# replacing the inf value with zero\n",
    "dfDrugFeat.replace([np.inf], 0, inplace=True)"
   ]
  },
  {
   "cell_type": "code",
   "execution_count": 21,
   "id": "fdfcde72",
   "metadata": {},
   "outputs": [
    {
     "name": "stdout",
     "output_type": "stream",
     "text": [
      "Minimum:  -784247906.0\n",
      "Maximum:  1.7976931348623157e+308\n"
     ]
    }
   ],
   "source": [
    "min_value = dfDrugFeat.min().min()\n",
    "max_value = dfDrugFeat.max().max()\n",
    "print(\"Minimum: \", min_value)\n",
    "print(\"Maximum: \", max_value)"
   ]
  },
  {
   "cell_type": "code",
   "execution_count": 38,
   "id": "92692cc4",
   "metadata": {},
   "outputs": [
    {
     "data": {
      "text/plain": [
       "4096"
      ]
     },
     "execution_count": 38,
     "metadata": {},
     "output_type": "execute_result"
    }
   ],
   "source": [
    "2048 * 2"
   ]
  },
  {
   "cell_type": "code",
   "execution_count": 19,
   "id": "adb7bfcc",
   "metadata": {},
   "outputs": [],
   "source": [
    "# NORMALIZE HERE"
   ]
  },
  {
   "cell_type": "code",
   "execution_count": 22,
   "id": "e74785ba",
   "metadata": {},
   "outputs": [],
   "source": [
    "scaler = MinMaxScaler(feature_range=(-1, 1))"
   ]
  },
  {
   "cell_type": "code",
   "execution_count": 23,
   "id": "85f69f43",
   "metadata": {},
   "outputs": [],
   "source": [
    "dfDrugFeat = scaler.fit_transform(dfDrugFeat)"
   ]
  },
  {
   "cell_type": "code",
   "execution_count": 24,
   "id": "0f6b8343",
   "metadata": {},
   "outputs": [
    {
     "data": {
      "text/plain": [
       "(1482, 1444)"
      ]
     },
     "execution_count": 24,
     "metadata": {},
     "output_type": "execute_result"
    }
   ],
   "source": [
    "dfDrugFeat.shape"
   ]
  },
  {
   "cell_type": "code",
   "execution_count": 25,
   "id": "6a24939a",
   "metadata": {},
   "outputs": [
    {
     "name": "stdout",
     "output_type": "stream",
     "text": [
      "Minimum:  -1.0\n",
      "Maximum:  1.0000000000000004\n"
     ]
    }
   ],
   "source": [
    "min_value = dfDrugFeat.min().min()\n",
    "max_value = dfDrugFeat.max().max()\n",
    "print(\"Minimum: \", min_value)\n",
    "print(\"Maximum: \", max_value)"
   ]
  },
  {
   "cell_type": "code",
   "execution_count": 26,
   "id": "0e478c6f",
   "metadata": {},
   "outputs": [
    {
     "name": "stdout",
     "output_type": "stream",
     "text": [
      "(1482, 1444)\n"
     ]
    }
   ],
   "source": [
    "print(dfDrugFeat.shape)"
   ]
  },
  {
   "cell_type": "code",
   "execution_count": 27,
   "id": "cd7e371b",
   "metadata": {},
   "outputs": [
    {
     "data": {
      "text/plain": [
       "numpy.ndarray"
      ]
     },
     "execution_count": 27,
     "metadata": {},
     "output_type": "execute_result"
    }
   ],
   "source": [
    "type(dfDrugFeat)"
   ]
  },
  {
   "cell_type": "code",
   "execution_count": 29,
   "id": "1638166c",
   "metadata": {},
   "outputs": [],
   "source": [
    "# dfDrugFeat['68']"
   ]
  },
  {
   "cell_type": "code",
   "execution_count": 30,
   "id": "7be83a5e",
   "metadata": {},
   "outputs": [],
   "source": [
    "# the drug feature tensor of size [1482, 1444]\n",
    "drug_feat = torch.from_numpy(dfDrugFeat).to(torch.float)"
   ]
  },
  {
   "cell_type": "code",
   "execution_count": 22,
   "id": "fe955a59",
   "metadata": {},
   "outputs": [
    {
     "data": {
      "text/plain": [
       "torch.Tensor"
      ]
     },
     "execution_count": 22,
     "metadata": {},
     "output_type": "execute_result"
    }
   ],
   "source": [
    "type(drug_feat)"
   ]
  },
  {
   "cell_type": "code",
   "execution_count": 23,
   "id": "cc6a2e4b",
   "metadata": {},
   "outputs": [
    {
     "name": "stdout",
     "output_type": "stream",
     "text": [
      "tensor(1.)\n"
     ]
    }
   ],
   "source": [
    "max_value = torch.max(drug_feat)\n",
    "print(max_value)"
   ]
  },
  {
   "cell_type": "code",
   "execution_count": 24,
   "id": "0b027606",
   "metadata": {},
   "outputs": [
    {
     "data": {
      "text/plain": [
       "torch.Size([1482, 1444])"
      ]
     },
     "execution_count": 24,
     "metadata": {},
     "output_type": "execute_result"
    }
   ],
   "source": [
    "drug_feat.shape"
   ]
  },
  {
   "cell_type": "code",
   "execution_count": 25,
   "id": "8091ed98",
   "metadata": {},
   "outputs": [],
   "source": [
    "uniqueDrug = dfDrug['1'].unique()"
   ]
  },
  {
   "cell_type": "code",
   "execution_count": 26,
   "id": "ff87f9d1",
   "metadata": {},
   "outputs": [],
   "source": [
    "uniqueDrug = pd.DataFrame(data={\n",
    "    'DrugId': uniqueDrug,\n",
    "    'mappedId': pd.RangeIndex(len(uniqueDrug)),\n",
    "})"
   ]
  },
  {
   "cell_type": "code",
   "execution_count": 18,
   "id": "0a384d95",
   "metadata": {},
   "outputs": [],
   "source": [
    "# uniqueDrug"
   ]
  },
  {
   "cell_type": "code",
   "execution_count": 20,
   "id": "ffd54986",
   "metadata": {},
   "outputs": [],
   "source": [
    "# storing this uniqueDrug dataframe in csv format in the folder 'Modified Dataset'\n",
    "## RUN THIS CELL ONLY ONE TIME\n",
    "# file_path_for_store = os.path.join('Modified Dataset','uniqueDrug.csv')\n",
    "# uniqueDrug.to_csv(file_path_for_store, index=False)"
   ]
  },
  {
   "cell_type": "code",
   "execution_count": 30,
   "id": "f5daaa08",
   "metadata": {},
   "outputs": [],
   "source": [
    "# 1st I will load the target dataset\n",
    "# then I will creat a 2 dimensional tensor of target features. That tensor will have size [1408, 4159]\n",
    "# I will map target to unique value range [0, num_of_target - 1]"
   ]
  },
  {
   "cell_type": "code",
   "execution_count": 27,
   "id": "073a0a17",
   "metadata": {},
   "outputs": [],
   "source": [
    "file_path = './NE Dataset/protein_attr.csv'"
   ]
  },
  {
   "cell_type": "code",
   "execution_count": 28,
   "id": "344f6061",
   "metadata": {},
   "outputs": [],
   "source": [
    "dfTarget = pd.read_csv(file_path)"
   ]
  },
  {
   "cell_type": "code",
   "execution_count": 31,
   "id": "f6a721e4",
   "metadata": {},
   "outputs": [],
   "source": [
    "# dfTarget"
   ]
  },
  {
   "cell_type": "code",
   "execution_count": 29,
   "id": "436e517b",
   "metadata": {},
   "outputs": [],
   "source": [
    "dfTargetFeat = dfTarget.drop(dfTarget.columns[:2], axis=1)"
   ]
  },
  {
   "cell_type": "code",
   "execution_count": 34,
   "id": "686235dd",
   "metadata": {},
   "outputs": [],
   "source": [
    "# dfTargetFeat"
   ]
  },
  {
   "cell_type": "code",
   "execution_count": 30,
   "id": "affd9f19",
   "metadata": {},
   "outputs": [],
   "source": [
    "# target feature tensor of size [1408, 4159]\n",
    "target_feat = torch.from_numpy(dfTargetFeat.values).to(torch.float)"
   ]
  },
  {
   "cell_type": "code",
   "execution_count": 31,
   "id": "c28493f3",
   "metadata": {},
   "outputs": [
    {
     "data": {
      "text/plain": [
       "torch.Size([1408, 4159])"
      ]
     },
     "execution_count": 31,
     "metadata": {},
     "output_type": "execute_result"
    }
   ],
   "source": [
    "target_feat.shape"
   ]
  },
  {
   "cell_type": "code",
   "execution_count": 32,
   "id": "1024857f",
   "metadata": {},
   "outputs": [],
   "source": [
    "uniqueTraget = dfTarget['#'].unique()"
   ]
  },
  {
   "cell_type": "code",
   "execution_count": 33,
   "id": "e736503f",
   "metadata": {},
   "outputs": [
    {
     "data": {
      "text/plain": [
       "1408"
      ]
     },
     "execution_count": 33,
     "metadata": {},
     "output_type": "execute_result"
    }
   ],
   "source": [
    "len(uniqueTraget)"
   ]
  },
  {
   "cell_type": "code",
   "execution_count": 34,
   "id": "1e182a1b",
   "metadata": {},
   "outputs": [],
   "source": [
    "uniqueTraget = pd.DataFrame(data={\n",
    "    'TargetId': uniqueTraget,\n",
    "    'mappedId': pd.RangeIndex(len(uniqueTraget)),\n",
    "})"
   ]
  },
  {
   "cell_type": "code",
   "execution_count": 27,
   "id": "27ee0d3f",
   "metadata": {},
   "outputs": [],
   "source": [
    "# uniqueTraget"
   ]
  },
  {
   "cell_type": "code",
   "execution_count": 68,
   "id": "9761ad67",
   "metadata": {},
   "outputs": [],
   "source": [
    "# storing this uniqueTraget dataframe in csv format in the folder 'Modified Dataset'\n",
    "## RUN THIS CELL ONLY ONE TIME\n",
    "# file_path_for_store = os.path.join('Modified Dataset','uniqueTraget.csv')\n",
    "# uniqueTraget.to_csv(file_path_for_store, index=False)"
   ]
  },
  {
   "cell_type": "code",
   "execution_count": 41,
   "id": "d118620d",
   "metadata": {},
   "outputs": [],
   "source": [
    "# create the edge index\n",
    "# create edge index drug to target"
   ]
  },
  {
   "cell_type": "code",
   "execution_count": 35,
   "id": "b77ad2ab",
   "metadata": {},
   "outputs": [],
   "source": [
    "file_path = './NE Dataset/train_dti.csv'"
   ]
  },
  {
   "cell_type": "code",
   "execution_count": 36,
   "id": "44c4f371",
   "metadata": {},
   "outputs": [],
   "source": [
    "dfDTI = pd.read_csv(file_path)"
   ]
  },
  {
   "cell_type": "code",
   "execution_count": 30,
   "id": "448bc463",
   "metadata": {},
   "outputs": [],
   "source": [
    "# dfDTI"
   ]
  },
  {
   "cell_type": "code",
   "execution_count": 35,
   "id": "00299c1a",
   "metadata": {},
   "outputs": [],
   "source": [
    "# split the dataframe into two dataframe.\n",
    "# one split will contian the postive edges\n",
    "# another split will contain the negative edges"
   ]
  },
  {
   "cell_type": "code",
   "execution_count": 37,
   "id": "890da1a4",
   "metadata": {},
   "outputs": [],
   "source": [
    "dfDTIpos = dfDTI[dfDTI['Label'] == 1]"
   ]
  },
  {
   "cell_type": "code",
   "execution_count": 33,
   "id": "19bce5e6",
   "metadata": {},
   "outputs": [],
   "source": [
    "# dfDTIpos"
   ]
  },
  {
   "cell_type": "code",
   "execution_count": 38,
   "id": "a3c9b6db",
   "metadata": {},
   "outputs": [],
   "source": [
    "dfDTIneg = dfDTI[dfDTI['Label'] == 0]"
   ]
  },
  {
   "cell_type": "code",
   "execution_count": 36,
   "id": "bd6663e2",
   "metadata": {},
   "outputs": [],
   "source": [
    "# dfDTIneg"
   ]
  },
  {
   "cell_type": "code",
   "execution_count": 47,
   "id": "dca51aef",
   "metadata": {},
   "outputs": [],
   "source": [
    "# create edge_index_pos_drug_to_target"
   ]
  },
  {
   "cell_type": "code",
   "execution_count": 39,
   "id": "fa4f86e4",
   "metadata": {},
   "outputs": [],
   "source": [
    "pos_interact_drug_id = pd.merge(dfDTIpos['Drug'], uniqueDrug,\n",
    "                               left_on='Drug', right_on='DrugId', how='left')\n",
    "pos_interact_drug_id = torch.from_numpy(pos_interact_drug_id['mappedId'].values)"
   ]
  },
  {
   "cell_type": "code",
   "execution_count": 40,
   "id": "88c7d011",
   "metadata": {},
   "outputs": [
    {
     "data": {
      "text/plain": [
       "tensor([ 787,   62,  516,  ..., 1449, 1057, 1448])"
      ]
     },
     "execution_count": 40,
     "metadata": {},
     "output_type": "execute_result"
    }
   ],
   "source": [
    "pos_interact_drug_id"
   ]
  },
  {
   "cell_type": "code",
   "execution_count": 41,
   "id": "f4003bd8",
   "metadata": {},
   "outputs": [],
   "source": [
    "pos_interact_target_id = pd.merge(dfDTIpos['Target'], uniqueTraget,\n",
    "                                  left_on='Target', right_on='TargetId', how='left')\n",
    "pos_interact_target_id = torch.from_numpy(pos_interact_target_id['mappedId'].values)"
   ]
  },
  {
   "cell_type": "code",
   "execution_count": 58,
   "id": "cb1427b0",
   "metadata": {},
   "outputs": [],
   "source": [
    "# pos_interact_target_id"
   ]
  },
  {
   "cell_type": "code",
   "execution_count": 42,
   "id": "844c7d48",
   "metadata": {},
   "outputs": [],
   "source": [
    "edge_index_pos_drug_to_target = torch.stack([pos_interact_drug_id, pos_interact_target_id], dim=0)"
   ]
  },
  {
   "cell_type": "code",
   "execution_count": 45,
   "id": "8b51904f",
   "metadata": {},
   "outputs": [
    {
     "data": {
      "text/plain": [
       "tensor([[ 787,   62,  516,  ..., 1449, 1057, 1448],\n",
       "        [ 942, 1366,  805,  ...,  913,  382,  637]])"
      ]
     },
     "execution_count": 45,
     "metadata": {},
     "output_type": "execute_result"
    }
   ],
   "source": [
    "edge_index_pos_drug_to_target"
   ]
  },
  {
   "cell_type": "code",
   "execution_count": 35,
   "id": "a03ffbb3",
   "metadata": {},
   "outputs": [],
   "source": [
    "# create edge_index_neg_drug_to_target"
   ]
  },
  {
   "cell_type": "code",
   "execution_count": 46,
   "id": "2a91d4ee",
   "metadata": {},
   "outputs": [],
   "source": [
    "neg_interact_drug_id = pd.merge(dfDTIneg['Drug'], uniqueDrug,\n",
    "                               left_on='Drug', right_on='DrugId', how='left')\n",
    "neg_interact_drug_id = torch.from_numpy(neg_interact_drug_id['mappedId'].values)"
   ]
  },
  {
   "cell_type": "code",
   "execution_count": 47,
   "id": "65df53b3",
   "metadata": {},
   "outputs": [
    {
     "data": {
      "text/plain": [
       "tensor([ 839,  490, 1126,  ...,  423, 1306,    3])"
      ]
     },
     "execution_count": 47,
     "metadata": {},
     "output_type": "execute_result"
    }
   ],
   "source": [
    "neg_interact_drug_id"
   ]
  },
  {
   "cell_type": "code",
   "execution_count": 48,
   "id": "d11f8920",
   "metadata": {},
   "outputs": [],
   "source": [
    "neg_interact_target_id = pd.merge(dfDTIneg['Target'], uniqueTraget,\n",
    "                                 left_on='Target', right_on='TargetId', how='left')\n",
    "neg_interact_target_id = torch.from_numpy(neg_interact_target_id['mappedId'].values)"
   ]
  },
  {
   "cell_type": "code",
   "execution_count": 49,
   "id": "9ff01fd0",
   "metadata": {},
   "outputs": [
    {
     "data": {
      "text/plain": [
       "tensor([ 667, 1054,  664,  ...,  530, 1048,  263])"
      ]
     },
     "execution_count": 49,
     "metadata": {},
     "output_type": "execute_result"
    }
   ],
   "source": [
    "neg_interact_target_id"
   ]
  },
  {
   "cell_type": "code",
   "execution_count": 50,
   "id": "89324bee",
   "metadata": {},
   "outputs": [],
   "source": [
    "edge_index_neg_drug_to_target = torch.stack([neg_interact_drug_id, neg_interact_target_id], dim=0)"
   ]
  },
  {
   "cell_type": "code",
   "execution_count": 52,
   "id": "7c56c733",
   "metadata": {},
   "outputs": [
    {
     "data": {
      "text/plain": [
       "tensor([[ 839,  490, 1126,  ...,  423, 1306,    3],\n",
       "        [ 667, 1054,  664,  ...,  530, 1048,  263]])"
      ]
     },
     "execution_count": 52,
     "metadata": {},
     "output_type": "execute_result"
    }
   ],
   "source": [
    "edge_index_neg_drug_to_target"
   ]
  },
  {
   "cell_type": "code",
   "execution_count": 98,
   "id": "03939543",
   "metadata": {},
   "outputs": [],
   "source": [
    "# create edge index drug to drug"
   ]
  },
  {
   "cell_type": "code",
   "execution_count": 53,
   "id": "1c8c150a",
   "metadata": {},
   "outputs": [],
   "source": [
    "file_path = './NE Dataset/train_ddi.csv'"
   ]
  },
  {
   "cell_type": "code",
   "execution_count": 54,
   "id": "a1af30d2",
   "metadata": {},
   "outputs": [],
   "source": [
    "dfDDI = pd.read_csv(file_path)"
   ]
  },
  {
   "cell_type": "code",
   "execution_count": 54,
   "id": "b0d41277",
   "metadata": {},
   "outputs": [],
   "source": [
    "# dfDDI"
   ]
  },
  {
   "cell_type": "code",
   "execution_count": 55,
   "id": "03b4b5db",
   "metadata": {},
   "outputs": [],
   "source": [
    "source_drug_id = pd.merge(dfDDI['Drug'], uniqueDrug,\n",
    "                         left_on='Drug', right_on='DrugId', how='left')\n",
    "source_drug_id = torch.from_numpy(source_drug_id['mappedId'].values)"
   ]
  },
  {
   "cell_type": "code",
   "execution_count": 75,
   "id": "0a32fa4f",
   "metadata": {},
   "outputs": [],
   "source": [
    "# source_drug_id"
   ]
  },
  {
   "cell_type": "code",
   "execution_count": 56,
   "id": "3dd7c8fe",
   "metadata": {},
   "outputs": [],
   "source": [
    "destination_drug_id = pd.merge(dfDDI['Target'], uniqueDrug,\n",
    "                              left_on='Target', right_on='DrugId', how='left')\n",
    "destination_drug_id = torch.from_numpy(destination_drug_id['mappedId'].values)"
   ]
  },
  {
   "cell_type": "code",
   "execution_count": 78,
   "id": "321c2acb",
   "metadata": {},
   "outputs": [],
   "source": [
    "# destination_drug_id"
   ]
  },
  {
   "cell_type": "code",
   "execution_count": 117,
   "id": "8b7cf588",
   "metadata": {},
   "outputs": [],
   "source": [
    "edge_index_drug_to_drug = torch.stack([source_drug_id, destination_drug_id], dim=0)"
   ]
  },
  {
   "cell_type": "code",
   "execution_count": 58,
   "id": "807349e3",
   "metadata": {},
   "outputs": [
    {
     "data": {
      "text/plain": [
       "torch.Size([2, 967801])"
      ]
     },
     "execution_count": 58,
     "metadata": {},
     "output_type": "execute_result"
    }
   ],
   "source": [
    "edge_index_drug_to_drug.shape"
   ]
  },
  {
   "cell_type": "code",
   "execution_count": 131,
   "id": "278474aa",
   "metadata": {},
   "outputs": [],
   "source": [
    "# create edge index target to target"
   ]
  },
  {
   "cell_type": "code",
   "execution_count": 59,
   "id": "8cbef966",
   "metadata": {},
   "outputs": [],
   "source": [
    "file_path = './NE Dataset/train_ppi.csv'"
   ]
  },
  {
   "cell_type": "code",
   "execution_count": 60,
   "id": "63d7843b",
   "metadata": {},
   "outputs": [],
   "source": [
    "dfPPI = pd.read_csv(file_path)"
   ]
  },
  {
   "cell_type": "code",
   "execution_count": 62,
   "id": "9d485620",
   "metadata": {},
   "outputs": [],
   "source": [
    "# dfPPI"
   ]
  },
  {
   "cell_type": "code",
   "execution_count": 61,
   "id": "f3888e78",
   "metadata": {},
   "outputs": [],
   "source": [
    "source_target_id = pd.merge(dfPPI['Drug'], uniqueTraget,\n",
    "                           left_on='Drug', right_on='TargetId', how='left')\n",
    "source_target_id = torch.from_numpy(source_target_id['mappedId'].values)"
   ]
  },
  {
   "cell_type": "code",
   "execution_count": 86,
   "id": "2f9f5559",
   "metadata": {},
   "outputs": [],
   "source": [
    "# source_target_id"
   ]
  },
  {
   "cell_type": "code",
   "execution_count": 62,
   "id": "193ec41a",
   "metadata": {},
   "outputs": [],
   "source": [
    "destination_target_id = pd.merge(dfPPI['Target'], uniqueTraget,\n",
    "                                left_on='Target', right_on='TargetId', how='left')\n",
    "destination_target_id = torch.from_numpy(destination_target_id['mappedId'].values)"
   ]
  },
  {
   "cell_type": "code",
   "execution_count": 63,
   "id": "49bcd637",
   "metadata": {},
   "outputs": [
    {
     "data": {
      "text/plain": [
       "tensor([   1,    2,    3,  ...,  190,  854, 1243])"
      ]
     },
     "execution_count": 63,
     "metadata": {},
     "output_type": "execute_result"
    }
   ],
   "source": [
    "destination_target_id"
   ]
  },
  {
   "cell_type": "code",
   "execution_count": 64,
   "id": "b7357d0b",
   "metadata": {},
   "outputs": [],
   "source": [
    "edge_index_target_to_target = torch.stack([source_target_id, destination_target_id], dim=0)"
   ]
  },
  {
   "cell_type": "code",
   "execution_count": 122,
   "id": "353c337d",
   "metadata": {},
   "outputs": [],
   "source": [
    "# edge_index_target_to_target"
   ]
  },
  {
   "cell_type": "code",
   "execution_count": 65,
   "id": "a40592ac",
   "metadata": {},
   "outputs": [
    {
     "name": "stdout",
     "output_type": "stream",
     "text": [
      "torch.Size([2, 2371])\n",
      "torch.Size([2, 2371])\n",
      "torch.Size([2, 967801])\n",
      "torch.Size([2, 1276992])\n"
     ]
    }
   ],
   "source": [
    "# printing the shape of all created edge index\n",
    "print(edge_index_pos_drug_to_target.shape)\n",
    "print(edge_index_neg_drug_to_target.shape)\n",
    "print(edge_index_drug_to_drug.shape)\n",
    "print(edge_index_target_to_target.shape)"
   ]
  },
  {
   "cell_type": "code",
   "execution_count": 55,
   "id": "3ab34805",
   "metadata": {},
   "outputs": [],
   "source": [
    "# we have to create heterogeneous graph\n",
    "# so far we have some of the things ready\n",
    "# we have drug features\n",
    "# we have target features\n",
    "# we have three kinds of edges: ('drug', 'interact', 'target'), ('drug', 'similar', 'drug'), ('target', 'similar', 'target')\n",
    "# TO DO now\n",
    "# dfDTI er pos label gulu 1D tensor a convert\n",
    "# dfDTI er neg label gulu 1D tensor a convert\n",
    "# pos edge_index_pos_drug_to_target split -> 70% and 30%. pos label split -> 70% and 30%\n",
    "# pos edge_index_neg_drug_to_target split -> 70% and 30%. neg label split -> 70% and 30%\n",
    "# 30% edge_index_pos_drug_to_target and 30% edge_index_neg_drug_to_target concatenate (this is supervision edge index)\n",
    "# 30% pos label + 30% neg label (this is supervision label)"
   ]
  },
  {
   "cell_type": "code",
   "execution_count": 66,
   "id": "c85cf926",
   "metadata": {},
   "outputs": [],
   "source": [
    "# dfDTI er pos label gulu 1D tensor a convert\n",
    "pos_edge_label = dfDTIpos['Label']\n",
    "pos_edge_label = torch.tensor(pos_edge_label.values)"
   ]
  },
  {
   "cell_type": "code",
   "execution_count": 67,
   "id": "7c56a903",
   "metadata": {},
   "outputs": [
    {
     "data": {
      "text/plain": [
       "tensor([1, 1, 1,  ..., 1, 1, 1])"
      ]
     },
     "execution_count": 67,
     "metadata": {},
     "output_type": "execute_result"
    }
   ],
   "source": [
    "pos_edge_label"
   ]
  },
  {
   "cell_type": "code",
   "execution_count": 68,
   "id": "77f4a20b",
   "metadata": {},
   "outputs": [],
   "source": [
    "# dfDTI er neg label gulu 1D tensor a convert\n",
    "neg_edge_label = dfDTIneg['Label']\n",
    "neg_edge_label = torch.tensor(neg_edge_label.values)"
   ]
  },
  {
   "cell_type": "code",
   "execution_count": 69,
   "id": "3baff734",
   "metadata": {},
   "outputs": [
    {
     "data": {
      "text/plain": [
       "tensor([0, 0, 0,  ..., 0, 0, 0])"
      ]
     },
     "execution_count": 69,
     "metadata": {},
     "output_type": "execute_result"
    }
   ],
   "source": [
    "neg_edge_label"
   ]
  },
  {
   "cell_type": "code",
   "execution_count": 70,
   "id": "035ce324",
   "metadata": {},
   "outputs": [],
   "source": [
    "def split_edges(edge_index, edge_label, split_ratio=0.7):\n",
    "    num_edges = edge_index.size(1)\n",
    "    random_permutation = torch.randperm(num_edges)\n",
    "    split_edge = int(split_ratio * num_edges)\n",
    "    edge_index_meg_pass = edge_index[:, random_permutation[:split_edge]]\n",
    "    edge_index_supervision = edge_index[:, random_permutation[split_edge: ]]\n",
    "    edge_label_supervision = edge_label[random_permutation[split_edge: ]]\n",
    "    return edge_index_meg_pass, edge_index_supervision, edge_label_supervision"
   ]
  },
  {
   "cell_type": "code",
   "execution_count": 71,
   "id": "2cc740d4",
   "metadata": {},
   "outputs": [],
   "source": [
    "edge_index_meg_pass, pos_edge_index_supervision, pos_edge_label_supervision = split_edges(edge_index_pos_drug_to_target, pos_edge_label)"
   ]
  },
  {
   "cell_type": "code",
   "execution_count": 72,
   "id": "f6c1985a",
   "metadata": {},
   "outputs": [
    {
     "name": "stdout",
     "output_type": "stream",
     "text": [
      "torch.Size([2, 1659])\n",
      "torch.Size([2, 712])\n",
      "torch.Size([712])\n"
     ]
    }
   ],
   "source": [
    "print(edge_index_meg_pass.shape)\n",
    "print(pos_edge_index_supervision.shape)\n",
    "print(pos_edge_label_supervision.shape)"
   ]
  },
  {
   "cell_type": "code",
   "execution_count": 73,
   "id": "cd757384",
   "metadata": {},
   "outputs": [],
   "source": [
    "dropped_edge_index, neg_edge_index_supervision, neg_edge_label_supervision = split_edges(edge_index_neg_drug_to_target, neg_edge_label)"
   ]
  },
  {
   "cell_type": "code",
   "execution_count": 74,
   "id": "e0ea9ca8",
   "metadata": {},
   "outputs": [
    {
     "name": "stdout",
     "output_type": "stream",
     "text": [
      "torch.Size([2, 712])\n",
      "torch.Size([712])\n"
     ]
    }
   ],
   "source": [
    "# print(dropped_edge_index.shape)\n",
    "print(neg_edge_index_supervision.shape)\n",
    "print(neg_edge_label_supervision.shape)"
   ]
  },
  {
   "cell_type": "code",
   "execution_count": 75,
   "id": "206cca24",
   "metadata": {},
   "outputs": [],
   "source": [
    "edge_index_supervision = torch.cat((pos_edge_index_supervision, neg_edge_index_supervision), dim=1)"
   ]
  },
  {
   "cell_type": "code",
   "execution_count": 76,
   "id": "8a47436e",
   "metadata": {},
   "outputs": [],
   "source": [
    "edge_label_supervision = torch.cat((pos_edge_label_supervision, neg_edge_label_supervision), dim=0)"
   ]
  },
  {
   "cell_type": "code",
   "execution_count": 77,
   "id": "36ab36b3",
   "metadata": {},
   "outputs": [
    {
     "data": {
      "text/plain": [
       "tensor([[1016,  278,  772,  ...,  313,  870,  678],\n",
       "        [1315, 1003,  910,  ...,  791,  958,  762]])"
      ]
     },
     "execution_count": 77,
     "metadata": {},
     "output_type": "execute_result"
    }
   ],
   "source": [
    "edge_index_supervision"
   ]
  },
  {
   "cell_type": "code",
   "execution_count": 78,
   "id": "983b2392",
   "metadata": {},
   "outputs": [
    {
     "data": {
      "text/plain": [
       "tensor([1, 1, 1,  ..., 0, 0, 0])"
      ]
     },
     "execution_count": 78,
     "metadata": {},
     "output_type": "execute_result"
    }
   ],
   "source": [
    "edge_label_supervision"
   ]
  },
  {
   "cell_type": "code",
   "execution_count": 79,
   "id": "20748296",
   "metadata": {},
   "outputs": [
    {
     "name": "stdout",
     "output_type": "stream",
     "text": [
      "torch.Size([2, 1424])\n",
      "torch.Size([1424])\n"
     ]
    }
   ],
   "source": [
    "print(edge_index_supervision.shape)\n",
    "print(edge_label_supervision.shape)"
   ]
  },
  {
   "cell_type": "code",
   "execution_count": 80,
   "id": "fef9dea3",
   "metadata": {},
   "outputs": [],
   "source": [
    "# shuffle this supervision edge index and label\n",
    "random_permutation = torch.randperm(1424)\n",
    "edge_index_supervision = edge_index_supervision[:, random_permutation]\n",
    "edge_label_supervision = edge_label_supervision[random_permutation]"
   ]
  },
  {
   "cell_type": "code",
   "execution_count": 81,
   "id": "04e83da6",
   "metadata": {},
   "outputs": [
    {
     "data": {
      "text/plain": [
       "tensor([[ 886, 1135, 1362,  ...,  334,  601,  110],\n",
       "        [1081,  632,  962,  ..., 1013,  719,  909]])"
      ]
     },
     "execution_count": 81,
     "metadata": {},
     "output_type": "execute_result"
    }
   ],
   "source": [
    "edge_index_supervision"
   ]
  },
  {
   "cell_type": "code",
   "execution_count": 82,
   "id": "1dcdaf8f",
   "metadata": {},
   "outputs": [
    {
     "data": {
      "text/plain": [
       "tensor([0, 0, 1,  ..., 0, 0, 0])"
      ]
     },
     "execution_count": 82,
     "metadata": {},
     "output_type": "execute_result"
    }
   ],
   "source": [
    "edge_label_supervision"
   ]
  },
  {
   "cell_type": "code",
   "execution_count": 83,
   "id": "fea2ef1f",
   "metadata": {},
   "outputs": [
    {
     "name": "stdout",
     "output_type": "stream",
     "text": [
      "torch.Size([2, 1424])\n",
      "torch.Size([1424])\n"
     ]
    }
   ],
   "source": [
    "print(edge_index_supervision.shape)\n",
    "print(edge_label_supervision.shape)"
   ]
  },
  {
   "cell_type": "code",
   "execution_count": 84,
   "id": "c704355d",
   "metadata": {},
   "outputs": [
    {
     "name": "stdout",
     "output_type": "stream",
     "text": [
      "torch.Size([1482, 1444])\n",
      "torch.Size([1408, 4159])\n",
      "torch.Size([2, 967801])\n",
      "torch.Size([2, 1276992])\n",
      "torch.Size([2, 1659])\n",
      "torch.Size([2, 1424])\n",
      "torch.Size([1424])\n"
     ]
    }
   ],
   "source": [
    "# things created so far\n",
    "print(drug_feat.shape)\n",
    "print(target_feat.shape)\n",
    "print(edge_index_drug_to_drug.shape) # this will be used for message passing\n",
    "print(edge_index_target_to_target.shape) # this will be used for message passing\n",
    "print(edge_index_meg_pass.shape) # this will be used for message passing\n",
    "# above three edges will be added to the heterodata and then T.ToUndirected() will be applied\n",
    "# then concatenated supervision edge index and labels will be added to the heterodata\n",
    "print(edge_index_supervision.shape) # this is the concatenated edge_index\n",
    "print(edge_label_supervision.shape) # this is the concatenated edge_label"
   ]
  },
  {
   "cell_type": "code",
   "execution_count": 88,
   "id": "ffcdad10",
   "metadata": {},
   "outputs": [],
   "source": [
    "# creating trainData"
   ]
  },
  {
   "cell_type": "code",
   "execution_count": 85,
   "id": "a86d3600",
   "metadata": {},
   "outputs": [],
   "source": [
    "trainData = HeteroData()"
   ]
  },
  {
   "cell_type": "code",
   "execution_count": 86,
   "id": "9ba14be6",
   "metadata": {},
   "outputs": [],
   "source": [
    "# adding node and features of drug\n",
    "trainData['drug'].node_id = torch.arange(drug_feat.size(0))\n",
    "trainData['drug'].x = drug_feat"
   ]
  },
  {
   "cell_type": "code",
   "execution_count": 87,
   "id": "82f2fa53",
   "metadata": {},
   "outputs": [],
   "source": [
    "# adding node and features of target\n",
    "trainData['target'].node_id = torch.arange(target_feat.size(0))\n",
    "trainData['target'].x = target_feat"
   ]
  },
  {
   "cell_type": "code",
   "execution_count": 89,
   "id": "9cb7544e",
   "metadata": {},
   "outputs": [],
   "source": [
    "# trainData['target']"
   ]
  },
  {
   "cell_type": "code",
   "execution_count": 88,
   "id": "51d889e2",
   "metadata": {},
   "outputs": [],
   "source": [
    "# adding all the edges which will be used for message passing to the heterogeneous data\n",
    "trainData[\"drug\", \"interact\", \"target\"].edge_index = edge_index_meg_pass\n",
    "trainData[\"drug\", \"similar\", \"drug\"].edge_index = edge_index_drug_to_drug\n",
    "trainData[\"target\", \"similar\", \"target\"].edge_index = edge_index_target_to_target"
   ]
  },
  {
   "cell_type": "code",
   "execution_count": 89,
   "id": "d43e98dd",
   "metadata": {},
   "outputs": [
    {
     "data": {
      "text/plain": [
       "(['drug', 'target'],\n",
       " [('drug', 'interact', 'target'),\n",
       "  ('drug', 'similar', 'drug'),\n",
       "  ('target', 'similar', 'target')])"
      ]
     },
     "execution_count": 89,
     "metadata": {},
     "output_type": "execute_result"
    }
   ],
   "source": [
    "trainData.metadata()"
   ]
  },
  {
   "cell_type": "code",
   "execution_count": 90,
   "id": "428ce62c",
   "metadata": {},
   "outputs": [
    {
     "name": "stdout",
     "output_type": "stream",
     "text": [
      "HeteroData(\n",
      "  drug={\n",
      "    node_id=[1482],\n",
      "    x=[1482, 1444],\n",
      "  },\n",
      "  target={\n",
      "    node_id=[1408],\n",
      "    x=[1408, 4159],\n",
      "  },\n",
      "  (drug, interact, target)={ edge_index=[2, 1659] },\n",
      "  (drug, similar, drug)={ edge_index=[2, 967801] },\n",
      "  (target, similar, target)={ edge_index=[2, 1276992] }\n",
      ")\n"
     ]
    }
   ],
   "source": [
    "print(trainData)"
   ]
  },
  {
   "cell_type": "code",
   "execution_count": 91,
   "id": "d62093dd",
   "metadata": {},
   "outputs": [],
   "source": [
    "trainData = T.ToUndirected()(trainData)"
   ]
  },
  {
   "cell_type": "code",
   "execution_count": 92,
   "id": "e4a41e38",
   "metadata": {},
   "outputs": [
    {
     "name": "stdout",
     "output_type": "stream",
     "text": [
      "HeteroData(\n",
      "  drug={\n",
      "    node_id=[1482],\n",
      "    x=[1482, 1444],\n",
      "  },\n",
      "  target={\n",
      "    node_id=[1408],\n",
      "    x=[1408, 4159],\n",
      "  },\n",
      "  (drug, interact, target)={ edge_index=[2, 1659] },\n",
      "  (drug, similar, drug)={ edge_index=[2, 1246640] },\n",
      "  (target, similar, target)={ edge_index=[2, 1043321] },\n",
      "  (target, rev_interact, drug)={ edge_index=[2, 1659] }\n",
      ")\n"
     ]
    }
   ],
   "source": [
    "print(trainData)"
   ]
  },
  {
   "cell_type": "code",
   "execution_count": 93,
   "id": "d0e3cea1",
   "metadata": {},
   "outputs": [
    {
     "data": {
      "text/plain": [
       "(['drug', 'target'],\n",
       " [('drug', 'interact', 'target'),\n",
       "  ('drug', 'similar', 'drug'),\n",
       "  ('target', 'similar', 'target'),\n",
       "  ('target', 'rev_interact', 'drug')])"
      ]
     },
     "execution_count": 93,
     "metadata": {},
     "output_type": "execute_result"
    }
   ],
   "source": [
    "trainData.metadata()"
   ]
  },
  {
   "cell_type": "code",
   "execution_count": 94,
   "id": "6f1d7ade",
   "metadata": {},
   "outputs": [],
   "source": [
    "# adding edge index and edge label for supervision to the data\n",
    "trainData[\"drug\", \"interact\", \"target\"].edge_label = edge_label_supervision\n",
    "trainData[\"drug\", \"interact\", \"target\"].edge_label_index = edge_index_supervision"
   ]
  },
  {
   "cell_type": "code",
   "execution_count": 95,
   "id": "ff7e8328",
   "metadata": {},
   "outputs": [
    {
     "name": "stdout",
     "output_type": "stream",
     "text": [
      "HeteroData(\n",
      "  drug={\n",
      "    node_id=[1482],\n",
      "    x=[1482, 1444],\n",
      "  },\n",
      "  target={\n",
      "    node_id=[1408],\n",
      "    x=[1408, 4159],\n",
      "  },\n",
      "  (drug, interact, target)={\n",
      "    edge_index=[2, 1659],\n",
      "    edge_label=[1424],\n",
      "    edge_label_index=[2, 1424],\n",
      "  },\n",
      "  (drug, similar, drug)={ edge_index=[2, 1246640] },\n",
      "  (target, similar, target)={ edge_index=[2, 1043321] },\n",
      "  (target, rev_interact, drug)={ edge_index=[2, 1659] }\n",
      ")\n"
     ]
    }
   ],
   "source": [
    "print(trainData)"
   ]
  },
  {
   "cell_type": "code",
   "execution_count": 96,
   "id": "eee83c64",
   "metadata": {},
   "outputs": [
    {
     "data": {
      "text/plain": [
       "(['drug', 'target'],\n",
       " [('drug', 'interact', 'target'),\n",
       "  ('drug', 'similar', 'drug'),\n",
       "  ('target', 'similar', 'target'),\n",
       "  ('target', 'rev_interact', 'drug')])"
      ]
     },
     "execution_count": 96,
     "metadata": {},
     "output_type": "execute_result"
    }
   ],
   "source": [
    "trainData.metadata()"
   ]
  },
  {
   "cell_type": "code",
   "execution_count": 97,
   "id": "dda46c37",
   "metadata": {},
   "outputs": [
    {
     "data": {
      "text/plain": [
       "{'edge_index': tensor([[ 340,  271,  699,  ...,  134,  361, 1328],\n",
       "        [ 507,    9,  507,  ...,  494, 1011,  664]]), 'edge_label': tensor([0, 0, 1,  ..., 0, 0, 0]), 'edge_label_index': tensor([[ 886, 1135, 1362,  ...,  334,  601,  110],\n",
       "        [1081,  632,  962,  ..., 1013,  719,  909]])}"
      ]
     },
     "execution_count": 97,
     "metadata": {},
     "output_type": "execute_result"
    }
   ],
   "source": [
    "trainData[\"drug\", \"interact\", \"target\"]"
   ]
  },
  {
   "cell_type": "code",
   "execution_count": 98,
   "id": "46ed7522",
   "metadata": {},
   "outputs": [
    {
     "data": {
      "text/plain": [
       "{('drug',\n",
       "  'interact',\n",
       "  'target'): tensor([[ 340,  271,  699,  ...,  134,  361, 1328],\n",
       "         [ 507,    9,  507,  ...,  494, 1011,  664]]),\n",
       " ('drug',\n",
       "  'similar',\n",
       "  'drug'): tensor([[   2,    3,    3,  ..., 1481, 1481, 1481],\n",
       "         [1435,    4,    5,  ..., 1477, 1478, 1480]]),\n",
       " ('target',\n",
       "  'similar',\n",
       "  'target'): tensor([[   0,    0,    0,  ..., 1398, 1398, 1398],\n",
       "         [   1,    2,    3,  ..., 1241, 1242, 1340]]),\n",
       " ('target',\n",
       "  'rev_interact',\n",
       "  'drug'): tensor([[ 507,    9,  507,  ...,  494, 1011,  664],\n",
       "         [ 340,  271,  699,  ...,  134,  361, 1328]])}"
      ]
     },
     "execution_count": 98,
     "metadata": {},
     "output_type": "execute_result"
    }
   ],
   "source": [
    "trainData.edge_index_dict"
   ]
  },
  {
   "cell_type": "code",
   "execution_count": 99,
   "id": "6f8197ac",
   "metadata": {},
   "outputs": [],
   "source": [
    "class GNN(torch.nn.Module):\n",
    "    def __init__(self, hidden_channels):\n",
    "        super().__init__()\n",
    "        # self.conv1 = GCNConv(hidden_channels, hidden_channels)\n",
    "        # self.conv2 = GCNConv(hidden_channels, hidden_channels)\n",
    "        self.conv1 = SAGEConv(hidden_channels, hidden_channels)\n",
    "        self.conv2 = SAGEConv(hidden_channels, hidden_channels)\n",
    "#         self.conv1 = GATConv(hidden_channels, hidden_channels, add_self_loops=True)\n",
    "#         self.conv2 = GATConv(hidden_channels, hidden_channels, add_self_loops=True)\n",
    "    def forward(self, x: Tensor, edge_index: Tensor) -> Tensor:\n",
    "        x = F.relu(self.conv1(x, edge_index))\n",
    "        x = self.conv2(x, edge_index)\n",
    "        return x"
   ]
  },
  {
   "cell_type": "code",
   "execution_count": 100,
   "id": "ed33f1c5",
   "metadata": {},
   "outputs": [],
   "source": [
    "class Classifier(torch.nn.Module):\n",
    "    def forward(self, x_drug: Tensor, x_target: Tensor, edge_label_index: Tensor):\n",
    "        edge_feat_drug = x_drug[edge_label_index[0]]\n",
    "        edge_feat_target = x_target[edge_label_index[1]]\n",
    "#         dotProduct = (edge_feat_drug * edge_feat_target).sum(dim=1)\n",
    "#         print(\"Dot Product: \", dotProduct)\n",
    "#         print(dotProduct.size())\n",
    "        return (edge_feat_drug * edge_feat_target).sum(dim=1)"
   ]
  },
  {
   "cell_type": "code",
   "execution_count": 101,
   "id": "e1c12c9a",
   "metadata": {},
   "outputs": [],
   "source": [
    "class Model(torch.nn.Module):\n",
    "    def __init__(self, hidden_channels):\n",
    "        super().__init__()\n",
    "        self.drug_lin = torch.nn.Linear(1444, hidden_channels)\n",
    "        self.target_lin = torch.nn.Linear(4159, hidden_channels)\n",
    "        # Instantiate homogeneous GNN\n",
    "        self.gnn = GNN(hidden_channels)\n",
    "        # Convert GNN model into a heterogeneous variant\n",
    "        self.gnn = to_hetero(self.gnn, metadata=trainData.metadata())\n",
    "        self.classifier = Classifier()\n",
    "    def forward(self, data: HeteroData) -> Tensor:\n",
    "        x_dict = {\n",
    "            \"drug\": self.drug_lin(data[\"drug\"].x),\n",
    "            \"target\": self.target_lin(data[\"target\"].x),\n",
    "        \n",
    "        }\n",
    "        x_dict = self.gnn(x_dict, data.edge_index_dict)\n",
    "        pred = self.classifier(\n",
    "            x_dict[\"drug\"],\n",
    "            x_dict[\"target\"],\n",
    "            data[\"drug\", \"interact\", \"target\"].edge_label_index,\n",
    "        )\n",
    "        return pred"
   ]
  },
  {
   "cell_type": "code",
   "execution_count": 103,
   "id": "56b7c845",
   "metadata": {},
   "outputs": [],
   "source": [
    "model = Model(hidden_channels=64)"
   ]
  },
  {
   "cell_type": "code",
   "execution_count": 104,
   "id": "06f63d47",
   "metadata": {},
   "outputs": [
    {
     "name": "stdout",
     "output_type": "stream",
     "text": [
      "Device: 'cpu'\n"
     ]
    }
   ],
   "source": [
    "device = torch.device('cuda' if torch.cuda.is_available() else 'cpu')\n",
    "print(f\"Device: '{device}'\")"
   ]
  },
  {
   "cell_type": "code",
   "execution_count": 105,
   "id": "c3925db7",
   "metadata": {},
   "outputs": [],
   "source": [
    "model = model.to(device)"
   ]
  },
  {
   "cell_type": "code",
   "execution_count": 106,
   "id": "21445c90",
   "metadata": {},
   "outputs": [],
   "source": [
    "optimizer = torch.optim.Adam(model.parameters(), lr=0.001)"
   ]
  },
  {
   "cell_type": "code",
   "execution_count": 107,
   "id": "d8eb1957",
   "metadata": {},
   "outputs": [
    {
     "data": {
      "text/plain": [
       "tensor([0., 0., 1.,  ..., 0., 0., 0.])"
      ]
     },
     "execution_count": 107,
     "metadata": {},
     "output_type": "execute_result"
    }
   ],
   "source": [
    "ground_truth = trainData[\"drug\", \"interact\", \"target\"].edge_label\n",
    "ground_truth = ground_truth.float()\n",
    "ground_truth.to(device)"
   ]
  },
  {
   "cell_type": "code",
   "execution_count": 108,
   "id": "dc247263",
   "metadata": {},
   "outputs": [
    {
     "name": "stdout",
     "output_type": "stream",
     "text": [
      "cpu\n"
     ]
    }
   ],
   "source": [
    "print(ground_truth.device)"
   ]
  },
  {
   "cell_type": "code",
   "execution_count": 109,
   "id": "34803560",
   "metadata": {},
   "outputs": [
    {
     "name": "stdout",
     "output_type": "stream",
     "text": [
      "Epoch: 10, Loss: 225.79443359375\n",
      "Epoch: 20, Loss: 11.151211738586426\n",
      "Epoch: 30, Loss: 13.802911758422852\n",
      "Epoch: 40, Loss: 4.4989213943481445\n",
      "Epoch: 50, Loss: 2.128450632095337\n",
      "Epoch: 60, Loss: 1.1115609407424927\n",
      "Epoch: 70, Loss: 0.795632004737854\n",
      "Epoch: 80, Loss: 0.6876006126403809\n",
      "Epoch: 90, Loss: 0.615020215511322\n",
      "Epoch: 100, Loss: 0.5835761427879333\n"
     ]
    }
   ],
   "source": [
    "for epoch in range(1, 101):\n",
    "    optimizer.zero_grad()\n",
    "    pred = model(trainData)\n",
    "    loss = F.binary_cross_entropy_with_logits(pred, ground_truth)\n",
    "    if epoch % 10 == 0:\n",
    "        print(f\"Epoch: {epoch}, Loss: {loss.item()}\")\n",
    "    loss.backward()\n",
    "    optimizer.step()"
   ]
  },
  {
   "cell_type": "code",
   "execution_count": 113,
   "id": "07219eb9",
   "metadata": {},
   "outputs": [],
   "source": [
    "# creating the validation dataset"
   ]
  },
  {
   "cell_type": "code",
   "execution_count": 120,
   "id": "3d512ebc",
   "metadata": {},
   "outputs": [],
   "source": [
    "valData = HeteroData()"
   ]
  },
  {
   "cell_type": "code",
   "execution_count": 123,
   "id": "4cc0e6a4",
   "metadata": {},
   "outputs": [],
   "source": [
    "# adding node and features of drug\n",
    "valData['drug'].node_id = torch.arange(drug_feat.size(0))\n",
    "valData['drug'].x = drug_feat"
   ]
  },
  {
   "cell_type": "code",
   "execution_count": 124,
   "id": "75fa40ce",
   "metadata": {},
   "outputs": [],
   "source": [
    "# adding node and features of target\n",
    "valData['target'].node_id = torch.arange(target_feat.size(0))\n",
    "valData['target'].x = target_feat"
   ]
  },
  {
   "cell_type": "code",
   "execution_count": 125,
   "id": "65f6503c",
   "metadata": {},
   "outputs": [
    {
     "name": "stdout",
     "output_type": "stream",
     "text": [
      "HeteroData(\n",
      "  drug={\n",
      "    node_id=[1482],\n",
      "    x=[1482, 1444],\n",
      "  },\n",
      "  target={\n",
      "    node_id=[1408],\n",
      "    x=[1408, 4159],\n",
      "  }\n",
      ")\n"
     ]
    }
   ],
   "source": [
    "print(valData)"
   ]
  },
  {
   "cell_type": "code",
   "execution_count": 204,
   "id": "fa0c022f",
   "metadata": {},
   "outputs": [],
   "source": [
    "# dfDTI"
   ]
  },
  {
   "cell_type": "code",
   "execution_count": 114,
   "id": "1ef8bcc0",
   "metadata": {},
   "outputs": [],
   "source": [
    "# pos_interact_drug_id = pd.merge(dfDTIpos['Drug'], uniqueDrug,\n",
    "#                                left_on='Drug', right_on='DrugId', how='left')\n",
    "# pos_interact_drug_id = torch.from_numpy(pos_interact_drug_id['mappedId'].values)"
   ]
  },
  {
   "cell_type": "code",
   "execution_count": 115,
   "id": "a2009f9c",
   "metadata": {},
   "outputs": [],
   "source": [
    "# pos_interact_target_id = pd.merge(dfDTIpos['Target'], uniqueTraget,\n",
    "#                                   left_on='Target', right_on='TargetId', how='left')\n",
    "# pos_interact_target_id = torch.from_numpy(pos_interact_target_id['mappedId'].values)"
   ]
  },
  {
   "cell_type": "code",
   "execution_count": 116,
   "id": "fbd9ddbf",
   "metadata": {},
   "outputs": [],
   "source": [
    "# edge_index_drug_to_target = torch.stack([pos_interact_drug_id, pos_interact_target_id], dim=0)"
   ]
  },
  {
   "cell_type": "code",
   "execution_count": 126,
   "id": "6e1a4cf1",
   "metadata": {},
   "outputs": [
    {
     "data": {
      "text/plain": [
       "tensor([[ 787,   62,  516,  ..., 1449, 1057, 1448],\n",
       "        [ 942, 1366,  805,  ...,  913,  382,  637]])"
      ]
     },
     "execution_count": 126,
     "metadata": {},
     "output_type": "execute_result"
    }
   ],
   "source": [
    "edge_index_pos_drug_to_target"
   ]
  },
  {
   "cell_type": "code",
   "execution_count": 119,
   "id": "a90ad536",
   "metadata": {},
   "outputs": [
    {
     "data": {
      "text/plain": [
       "tensor([[ 787,   62,  516,  ..., 1449, 1057, 1448],\n",
       "        [ 942, 1366,  805,  ...,  913,  382,  637]])"
      ]
     },
     "execution_count": 119,
     "metadata": {},
     "output_type": "execute_result"
    }
   ],
   "source": [
    "# edge_index_drug_to_target"
   ]
  },
  {
   "cell_type": "code",
   "execution_count": 127,
   "id": "a0418221",
   "metadata": {},
   "outputs": [],
   "source": [
    "# adding all the edges which will be used for message passing to the heterogeneous data\n",
    "valData[\"drug\", \"interact\", \"target\"].edge_index = edge_index_pos_drug_to_target\n",
    "valData[\"drug\", \"similar\", \"drug\"].edge_index = edge_index_drug_to_drug\n",
    "valData[\"target\", \"similar\", \"target\"].edge_index = edge_index_target_to_target"
   ]
  },
  {
   "cell_type": "code",
   "execution_count": 128,
   "id": "ba73f53c",
   "metadata": {},
   "outputs": [],
   "source": [
    "file_path = './NE Dataset/val_dti.csv'"
   ]
  },
  {
   "cell_type": "code",
   "execution_count": 129,
   "id": "0c6ac93d",
   "metadata": {},
   "outputs": [],
   "source": [
    "dfvalDTI = pd.read_csv(file_path)"
   ]
  },
  {
   "cell_type": "code",
   "execution_count": 130,
   "id": "06b761c0",
   "metadata": {},
   "outputs": [
    {
     "data": {
      "text/html": [
       "<div>\n",
       "<style scoped>\n",
       "    .dataframe tbody tr th:only-of-type {\n",
       "        vertical-align: middle;\n",
       "    }\n",
       "\n",
       "    .dataframe tbody tr th {\n",
       "        vertical-align: top;\n",
       "    }\n",
       "\n",
       "    .dataframe thead th {\n",
       "        text-align: right;\n",
       "    }\n",
       "</style>\n",
       "<table border=\"1\" class=\"dataframe\">\n",
       "  <thead>\n",
       "    <tr style=\"text-align: right;\">\n",
       "      <th></th>\n",
       "      <th>Unnamed: 0</th>\n",
       "      <th>Drug</th>\n",
       "      <th>Target</th>\n",
       "      <th>Label</th>\n",
       "    </tr>\n",
       "  </thead>\n",
       "  <tbody>\n",
       "    <tr>\n",
       "      <th>0</th>\n",
       "      <td>0</td>\n",
       "      <td>DB01567</td>\n",
       "      <td>A8MPY1</td>\n",
       "      <td>1</td>\n",
       "    </tr>\n",
       "    <tr>\n",
       "      <th>1</th>\n",
       "      <td>1</td>\n",
       "      <td>DB01092</td>\n",
       "      <td>P46721</td>\n",
       "      <td>1</td>\n",
       "    </tr>\n",
       "    <tr>\n",
       "      <th>2</th>\n",
       "      <td>2</td>\n",
       "      <td>DB00281</td>\n",
       "      <td>P10632</td>\n",
       "      <td>1</td>\n",
       "    </tr>\n",
       "    <tr>\n",
       "      <th>3</th>\n",
       "      <td>3</td>\n",
       "      <td>DB01120</td>\n",
       "      <td>P15692</td>\n",
       "      <td>1</td>\n",
       "    </tr>\n",
       "    <tr>\n",
       "      <th>4</th>\n",
       "      <td>4</td>\n",
       "      <td>DB08896</td>\n",
       "      <td>Q9UNQ0</td>\n",
       "      <td>1</td>\n",
       "    </tr>\n",
       "    <tr>\n",
       "      <th>...</th>\n",
       "      <td>...</td>\n",
       "      <td>...</td>\n",
       "      <td>...</td>\n",
       "      <td>...</td>\n",
       "    </tr>\n",
       "    <tr>\n",
       "      <th>943</th>\n",
       "      <td>943</td>\n",
       "      <td>DB01559</td>\n",
       "      <td>P30542</td>\n",
       "      <td>0</td>\n",
       "    </tr>\n",
       "    <tr>\n",
       "      <th>944</th>\n",
       "      <td>944</td>\n",
       "      <td>DB01336</td>\n",
       "      <td>P08183</td>\n",
       "      <td>0</td>\n",
       "    </tr>\n",
       "    <tr>\n",
       "      <th>945</th>\n",
       "      <td>945</td>\n",
       "      <td>DB00451</td>\n",
       "      <td>P21397</td>\n",
       "      <td>0</td>\n",
       "    </tr>\n",
       "    <tr>\n",
       "      <th>946</th>\n",
       "      <td>946</td>\n",
       "      <td>DB01410</td>\n",
       "      <td>P08684</td>\n",
       "      <td>0</td>\n",
       "    </tr>\n",
       "    <tr>\n",
       "      <th>947</th>\n",
       "      <td>947</td>\n",
       "      <td>DB00543</td>\n",
       "      <td>Q08188</td>\n",
       "      <td>0</td>\n",
       "    </tr>\n",
       "  </tbody>\n",
       "</table>\n",
       "<p>948 rows × 4 columns</p>\n",
       "</div>"
      ],
      "text/plain": [
       "     Unnamed: 0     Drug  Target  Label\n",
       "0             0  DB01567  A8MPY1      1\n",
       "1             1  DB01092  P46721      1\n",
       "2             2  DB00281  P10632      1\n",
       "3             3  DB01120  P15692      1\n",
       "4             4  DB08896  Q9UNQ0      1\n",
       "..          ...      ...     ...    ...\n",
       "943         943  DB01559  P30542      0\n",
       "944         944  DB01336  P08183      0\n",
       "945         945  DB00451  P21397      0\n",
       "946         946  DB01410  P08684      0\n",
       "947         947  DB00543  Q08188      0\n",
       "\n",
       "[948 rows x 4 columns]"
      ]
     },
     "execution_count": 130,
     "metadata": {},
     "output_type": "execute_result"
    }
   ],
   "source": [
    "dfvalDTI"
   ]
  },
  {
   "cell_type": "code",
   "execution_count": 131,
   "id": "8d3cae8b",
   "metadata": {},
   "outputs": [],
   "source": [
    "edge_index_supervision_drug = pd.merge(dfvalDTI['Drug'], uniqueDrug,\n",
    "                                      left_on='Drug', right_on='DrugId', how='left')\n",
    "edge_index_supervision_drug = torch.from_numpy(edge_index_supervision_drug['mappedId'].values)"
   ]
  },
  {
   "cell_type": "code",
   "execution_count": 132,
   "id": "c0aee004",
   "metadata": {},
   "outputs": [],
   "source": [
    "edge_index_supervision_target = pd.merge(dfvalDTI['Target'], uniqueTraget,\n",
    "                                        left_on='Target', right_on='TargetId', how='left')\n",
    "edge_index_supervision_target = torch.from_numpy(edge_index_supervision_target['mappedId'].values)"
   ]
  },
  {
   "cell_type": "code",
   "execution_count": 133,
   "id": "e3eb58fa",
   "metadata": {},
   "outputs": [],
   "source": [
    "edge_index_supervision = torch.stack([edge_index_supervision_drug, edge_index_supervision_target], dim=0)"
   ]
  },
  {
   "cell_type": "code",
   "execution_count": 134,
   "id": "2857330a",
   "metadata": {},
   "outputs": [
    {
     "data": {
      "text/plain": [
       "torch.Size([2, 948])"
      ]
     },
     "execution_count": 134,
     "metadata": {},
     "output_type": "execute_result"
    }
   ],
   "source": [
    "edge_index_supervision.size()"
   ]
  },
  {
   "cell_type": "code",
   "execution_count": 135,
   "id": "36b87548",
   "metadata": {},
   "outputs": [],
   "source": [
    "edge_label_supervision = dfvalDTI['Label']\n",
    "edge_label_supervision = torch.tensor(edge_label_supervision.values)"
   ]
  },
  {
   "cell_type": "code",
   "execution_count": 196,
   "id": "f8bbc2f5",
   "metadata": {},
   "outputs": [],
   "source": [
    "# print(edge_index_supervision)\n",
    "# print(edge_label_supervision)"
   ]
  },
  {
   "cell_type": "code",
   "execution_count": 136,
   "id": "cb40d53a",
   "metadata": {},
   "outputs": [],
   "source": [
    "random_permutationVal = torch.randperm(948)"
   ]
  },
  {
   "cell_type": "code",
   "execution_count": 137,
   "id": "c11860da",
   "metadata": {},
   "outputs": [],
   "source": [
    "edge_index_supervision = edge_index_supervision[:, random_permutationVal]\n",
    "edge_label_supervision = edge_label_supervision[random_permutationVal]"
   ]
  },
  {
   "cell_type": "code",
   "execution_count": 197,
   "id": "4cef03c5",
   "metadata": {},
   "outputs": [],
   "source": [
    "# print(edge_index_supervision)\n",
    "# print(edge_label_supervision)"
   ]
  },
  {
   "cell_type": "code",
   "execution_count": 180,
   "id": "c09793a9",
   "metadata": {},
   "outputs": [],
   "source": [
    "# valData.metadata()\n",
    "# print(valData)"
   ]
  },
  {
   "cell_type": "code",
   "execution_count": 220,
   "id": "7c607e55",
   "metadata": {},
   "outputs": [],
   "source": [
    "valData = T.ToUndirected()(valData)"
   ]
  },
  {
   "cell_type": "code",
   "execution_count": 184,
   "id": "44329e29",
   "metadata": {},
   "outputs": [],
   "source": [
    "# valData.metadata()\n",
    "# print(valData)"
   ]
  },
  {
   "cell_type": "code",
   "execution_count": 221,
   "id": "dd6ab6bd",
   "metadata": {},
   "outputs": [],
   "source": [
    "# adding edge index and edge label for supervision to the data\n",
    "valData[\"drug\", \"interact\", \"target\"].edge_label = edge_label_supervision\n",
    "valData[\"drug\", \"interact\", \"target\"].edge_label_index = edge_index_supervision"
   ]
  },
  {
   "cell_type": "code",
   "execution_count": 222,
   "id": "7efcb33f",
   "metadata": {},
   "outputs": [
    {
     "name": "stdout",
     "output_type": "stream",
     "text": [
      "HeteroData(\n",
      "  drug={\n",
      "    node_id=[1482],\n",
      "    x=[1482, 1444],\n",
      "  },\n",
      "  target={\n",
      "    node_id=[1408],\n",
      "    x=[1408, 4159],\n",
      "  },\n",
      "  (drug, interact, target)={\n",
      "    edge_index=[2, 2371],\n",
      "    edge_label=[948],\n",
      "    edge_label_index=[2, 948],\n",
      "  },\n",
      "  (drug, similar, drug)={ edge_index=[2, 1246640] },\n",
      "  (target, similar, target)={ edge_index=[2, 1043321] },\n",
      "  (target, rev_interact, drug)={ edge_index=[2, 2371] }\n",
      ")\n"
     ]
    }
   ],
   "source": [
    "print(valData)"
   ]
  },
  {
   "cell_type": "code",
   "execution_count": null,
   "id": "874d0caf",
   "metadata": {},
   "outputs": [],
   "source": []
  }
 ],
 "metadata": {
  "kernelspec": {
   "display_name": "Python 3 (ipykernel)",
   "language": "python",
   "name": "python3"
  },
  "language_info": {
   "codemirror_mode": {
    "name": "ipython",
    "version": 3
   },
   "file_extension": ".py",
   "mimetype": "text/x-python",
   "name": "python",
   "nbconvert_exporter": "python",
   "pygments_lexer": "ipython3",
   "version": "3.10.12"
  }
 },
 "nbformat": 4,
 "nbformat_minor": 5
}
